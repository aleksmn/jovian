{
 "cells": [
  {
   "cell_type": "markdown",
   "metadata": {},
   "source": [
    "# Python Fibonacci"
   ]
  },
  {
   "cell_type": "code",
   "execution_count": 5,
   "metadata": {},
   "outputs": [],
   "source": [
    "project_name = 'python-fibonacci'"
   ]
  },
  {
   "cell_type": "code",
   "execution_count": 6,
   "metadata": {},
   "outputs": [
    {
     "name": "stdout",
     "output_type": "stream",
     "text": [
      "/bin/bash: pip: command not found\r\n"
     ]
    }
   ],
   "source": [
    "!pip install jovian --upgrade --quiet"
   ]
  },
  {
   "cell_type": "code",
   "execution_count": 7,
   "metadata": {},
   "outputs": [
    {
     "data": {
      "application/javascript": [
       "if (window.IPython && IPython.notebook.kernel) IPython.notebook.kernel.execute('jovian.utils.jupyter.get_notebook_name_saved = lambda: \"' + IPython.notebook.notebook_name + '\"')"
      ],
      "text/plain": [
       "<IPython.core.display.Javascript object>"
      ]
     },
     "metadata": {},
     "output_type": "display_data"
    }
   ],
   "source": [
    "import jovian"
   ]
  },
  {
   "cell_type": "code",
   "execution_count": 8,
   "metadata": {},
   "outputs": [
    {
     "data": {
      "application/javascript": [
       "window.require && require([\"base/js/namespace\"],function(Jupyter){Jupyter.notebook.save_checkpoint()})"
      ],
      "text/plain": [
       "<IPython.core.display.Javascript object>"
      ]
     },
     "metadata": {},
     "output_type": "display_data"
    },
    {
     "name": "stdout",
     "output_type": "stream",
     "text": [
      "[jovian] Attempting to save notebook..\n",
      "[jovian] Please enter your API key ( from https://jovian.ai/ ):\n",
      "API KEY: ········\n",
      "[jovian] Creating a new project \"aleksmn/python-fibonacci\"\n",
      "[jovian] Uploading notebook..\n",
      "[jovian] Capturing environment..\n",
      "[jovian] Committed successfully! https://jovian.ai/aleksmn/python-fibonacci\n"
     ]
    },
    {
     "data": {
      "text/plain": [
       "'https://jovian.ai/aleksmn/python-fibonacci'"
      ]
     },
     "execution_count": 8,
     "metadata": {},
     "output_type": "execute_result"
    }
   ],
   "source": [
    "jovian.commit(project=project_name)"
   ]
  },
  {
   "cell_type": "markdown",
   "metadata": {},
   "source": [
    "## Problem Statement\n",
    "\n",
    "\n",
    "> The Fibonacci numbers are the numbers in the following integer sequence.\n",
    "0, 1, 1, 2, 3, 5, 8, 13, 21, 34, 55, 89, 144, …….. \n",
    "\n",
    ">Write a function int fib(int n) that returns Fn. For example, if n = 0, then fib() should return 0. If n = 1, then it should return 1. For n > 1, it should return Fn-1 + Fn-2\n",
    "\n",
    "\n",
    "Source: https://www.geeksforgeeks.org/program-for-nth-fibonacci-number/"
   ]
  },
  {
   "cell_type": "markdown",
   "metadata": {},
   "source": [
    "## The Method\n",
    "\n",
    "Here's the systematic strategy we'll apply for solving problems:\n",
    "\n",
    "1. State the problem clearly. Identify the input & output formats.\n",
    "2. Come up with some example inputs & outputs. Try to cover all edge cases.\n",
    "3. Come up with a correct solution for the problem. State it in plain English.\n",
    "4. Implement the solution and test it using example inputs. Fix bugs, if any.\n",
    "5. Analyze the algorithm's complexity and identify inefficiencies, if any.\n",
    "6. Apply the right technique to overcome the inefficiency. Repeat steps 3 to 6.\n",
    "\n",
    "This approach is explained in detail in [Lesson 1](https://jovian.ai/learn/data-structures-and-algorithms-in-python/lesson/lesson-1-binary-search-linked-lists-and-complexity) of the course. Let's apply this approach step-by-step."
   ]
  },
  {
   "cell_type": "markdown",
   "metadata": {},
   "source": [
    "## Solution\n",
    "\n",
    "\n",
    "### 1. State the problem clearly. Identify the input & output formats.\n",
    "\n",
    "While this problem is stated clearly enough, it's always useful to try and express in your own words, in a way that makes it most clear for you. \n",
    "\n",
    "\n",
    "**Problem**\n",
    "\n",
    "> Given a number n, print n-th Fibonacci Number. \n",
    "> Fib numbers: 0, 1, 1, 2, 3, 5, 8, 13, 21, 34, 55, 89, 144, …….. \n",
    "> So, if n=9, return 34.\n",
    "\n",
    "<br/>\n",
    "\n",
    "\n",
    "**Input**\n",
    "\n",
    "1. n = 9\n",
    "\n",
    "(add more if required)\n",
    "\n",
    "\n",
    "**Output**\n",
    "\n",
    "1. 34\n",
    "\n",
    "<br/>\n",
    "\n",
    "Based on the above, we can now create a signature of our function:"
   ]
  },
  {
   "cell_type": "code",
   "execution_count": 9,
   "metadata": {},
   "outputs": [],
   "source": [
    "import jovian"
   ]
  },
  {
   "cell_type": "code",
   "execution_count": 10,
   "metadata": {},
   "outputs": [
    {
     "data": {
      "application/javascript": [
       "window.require && require([\"base/js/namespace\"],function(Jupyter){Jupyter.notebook.save_checkpoint()})"
      ],
      "text/plain": [
       "<IPython.core.display.Javascript object>"
      ]
     },
     "metadata": {},
     "output_type": "display_data"
    },
    {
     "name": "stdout",
     "output_type": "stream",
     "text": [
      "[jovian] Attempting to save notebook..\n",
      "[jovian] Updating notebook \"aleksmn/python-fibonacci\" on https://jovian.ai/\n",
      "[jovian] Uploading notebook..\n",
      "[jovian] Capturing environment..\n",
      "[jovian] Committed successfully! https://jovian.ai/aleksmn/python-fibonacci\n"
     ]
    },
    {
     "data": {
      "text/plain": [
       "'https://jovian.ai/aleksmn/python-fibonacci'"
      ]
     },
     "execution_count": 10,
     "metadata": {},
     "output_type": "execute_result"
    }
   ],
   "source": [
    "jovian.commit()"
   ]
  },
  {
   "cell_type": "markdown",
   "metadata": {},
   "source": [
    "### 2. Come up with some example inputs & outputs. Try to cover all edge cases.\n",
    "\n",
    "Our function should be able to handle any set of valid inputs we pass into it. Here's a list of some possible variations we might encounter:\n",
    "\n",
    "1. Smaller than 2 number\n",
    "2. Number, smakker than 30\n",
    "3. Number nigger than 30\n",
    "\n",
    "(add more if required)\n",
    "\n",
    "\n",
    "We'll express our test cases as dictionaries, to test them easily. Each dictionary will contain 2 keys: `input` (a dictionary itself containing one key for each argument to the function and `output` (the expected result from the function). "
   ]
  },
  {
   "cell_type": "code",
   "execution_count": 42,
   "metadata": {},
   "outputs": [],
   "source": [
    "test = {\n",
    "    'input': {\n",
    "        'n': 9\n",
    "    },\n",
    "    'output': 34\n",
    "}"
   ]
  },
  {
   "cell_type": "markdown",
   "metadata": {},
   "source": [
    "Create one test case for each of the scenarios listed above. We'll store our test cases in an array called `tests`."
   ]
  },
  {
   "cell_type": "code",
   "execution_count": 43,
   "metadata": {},
   "outputs": [],
   "source": [
    "tests = []"
   ]
  },
  {
   "cell_type": "code",
   "execution_count": 44,
   "metadata": {},
   "outputs": [],
   "source": [
    "tests.append(test)"
   ]
  },
  {
   "cell_type": "code",
   "execution_count": 45,
   "metadata": {},
   "outputs": [],
   "source": [
    "tests.append({\n",
    "    'input': {\n",
    "        'n': 0\n",
    "    },\n",
    "    'output': 0\n",
    "})"
   ]
  },
  {
   "cell_type": "code",
   "execution_count": 46,
   "metadata": {},
   "outputs": [],
   "source": [
    "tests.append({\n",
    "    'input': {\n",
    "        'n': 2\n",
    "    },\n",
    "    'output': 1\n",
    "})"
   ]
  },
  {
   "cell_type": "code",
   "execution_count": 47,
   "metadata": {},
   "outputs": [],
   "source": [
    "tests.append({\n",
    "    'input': {\n",
    "        'n': 10\n",
    "    },\n",
    "    'output': 55\n",
    "})"
   ]
  },
  {
   "cell_type": "code",
   "execution_count": 48,
   "metadata": {},
   "outputs": [],
   "source": [
    "tests.append({\n",
    "    'input': {\n",
    "        'n': 12\n",
    "    },\n",
    "    'output': 144\n",
    "})"
   ]
  },
  {
   "cell_type": "code",
   "execution_count": 49,
   "metadata": {},
   "outputs": [],
   "source": [
    "tests.append({\n",
    "    'input': {\n",
    "        'n': 40\n",
    "    },\n",
    "    'output': 102334155\n",
    "})"
   ]
  },
  {
   "cell_type": "markdown",
   "metadata": {},
   "source": [
    "### 3. Come up with a correct solution for the problem. State it in plain English.\n",
    "\n",
    "Our first goal should always be to come up with a _correct_ solution to the problem, which may not necessarily be the most _efficient_ solution. Come with a correct solution and explain it in simple words below:\n",
    "\n",
    "1. If n < 2, return n\n",
    "2. else recursively return Fn-1 + Fn-2\n"
   ]
  },
  {
   "cell_type": "code",
   "execution_count": 50,
   "metadata": {},
   "outputs": [
    {
     "data": {
      "application/javascript": [
       "window.require && require([\"base/js/namespace\"],function(Jupyter){Jupyter.notebook.save_checkpoint()})"
      ],
      "text/plain": [
       "<IPython.core.display.Javascript object>"
      ]
     },
     "metadata": {},
     "output_type": "display_data"
    },
    {
     "name": "stdout",
     "output_type": "stream",
     "text": [
      "[jovian] Attempting to save notebook..\n",
      "[jovian] Updating notebook \"aleksmn/python-fibonacci\" on https://jovian.ai/\n",
      "[jovian] Uploading notebook..\n",
      "[jovian] Capturing environment..\n",
      "[jovian] Committed successfully! https://jovian.ai/aleksmn/python-fibonacci\n"
     ]
    },
    {
     "data": {
      "text/plain": [
       "'https://jovian.ai/aleksmn/python-fibonacci'"
      ]
     },
     "execution_count": 50,
     "metadata": {},
     "output_type": "execute_result"
    }
   ],
   "source": [
    "jovian.commit(filename='python-fibo.ipynb')"
   ]
  },
  {
   "cell_type": "markdown",
   "metadata": {},
   "source": [
    "###  4. Implement the solution and test it using example inputs. Fix bugs, if any."
   ]
  },
  {
   "cell_type": "code",
   "execution_count": 51,
   "metadata": {},
   "outputs": [],
   "source": [
    "def fib_recursion(n):\n",
    "    if n < 2:  # basic case\n",
    "        return n\n",
    "    return fib_recursion(n - 1) + fib_recursion(n - 2)"
   ]
  },
  {
   "cell_type": "code",
   "execution_count": 52,
   "metadata": {},
   "outputs": [],
   "source": [
    "from jovian.pythondsa import evaluate_test_cases"
   ]
  },
  {
   "cell_type": "code",
   "execution_count": 53,
   "metadata": {},
   "outputs": [
    {
     "name": "stdout",
     "output_type": "stream",
     "text": [
      "\n",
      "\u001b[1mTEST CASE #0\u001b[0m\n",
      "\n",
      "Input:\n",
      "{'n': 9}\n",
      "\n",
      "Expected Output:\n",
      "34\n",
      "\n",
      "\n",
      "Actual Output:\n",
      "34\n",
      "\n",
      "Execution Time:\n",
      "0.031 ms\n",
      "\n",
      "Test Result:\n",
      "\u001b[92mPASSED\u001b[0m\n",
      "\n",
      "\n",
      "\u001b[1mTEST CASE #1\u001b[0m\n",
      "\n",
      "Input:\n",
      "{'n': 0}\n",
      "\n",
      "Expected Output:\n",
      "0\n",
      "\n",
      "\n",
      "Actual Output:\n",
      "0\n",
      "\n",
      "Execution Time:\n",
      "0.005 ms\n",
      "\n",
      "Test Result:\n",
      "\u001b[92mPASSED\u001b[0m\n",
      "\n",
      "\n",
      "\u001b[1mTEST CASE #2\u001b[0m\n",
      "\n",
      "Input:\n",
      "{'n': 2}\n",
      "\n",
      "Expected Output:\n",
      "1\n",
      "\n",
      "\n",
      "Actual Output:\n",
      "1\n",
      "\n",
      "Execution Time:\n",
      "0.003 ms\n",
      "\n",
      "Test Result:\n",
      "\u001b[92mPASSED\u001b[0m\n",
      "\n",
      "\n",
      "\u001b[1mTEST CASE #3\u001b[0m\n",
      "\n",
      "Input:\n",
      "{'n': 10}\n",
      "\n",
      "Expected Output:\n",
      "55\n",
      "\n",
      "\n",
      "Actual Output:\n",
      "55\n",
      "\n",
      "Execution Time:\n",
      "0.045 ms\n",
      "\n",
      "Test Result:\n",
      "\u001b[92mPASSED\u001b[0m\n",
      "\n",
      "\n",
      "\u001b[1mTEST CASE #4\u001b[0m\n",
      "\n",
      "Input:\n",
      "{'n': 12}\n",
      "\n",
      "Expected Output:\n",
      "144\n",
      "\n",
      "\n",
      "Actual Output:\n",
      "144\n",
      "\n",
      "Execution Time:\n",
      "0.123 ms\n",
      "\n",
      "Test Result:\n",
      "\u001b[92mPASSED\u001b[0m\n",
      "\n",
      "\n",
      "\u001b[1mTEST CASE #5\u001b[0m\n",
      "\n",
      "Input:\n",
      "{'n': 40}\n",
      "\n",
      "Expected Output:\n",
      "102334155\n",
      "\n",
      "\n",
      "Actual Output:\n",
      "102334155\n",
      "\n",
      "Execution Time:\n",
      "35425.02 ms\n",
      "\n",
      "Test Result:\n",
      "\u001b[92mPASSED\u001b[0m\n",
      "\n",
      "\n",
      "\u001b[1mSUMMARY\u001b[0m\n",
      "\n",
      "TOTAL: 6, \u001b[92mPASSED\u001b[0m: 6, \u001b[91mFAILED\u001b[0m: 0\n"
     ]
    },
    {
     "data": {
      "text/plain": [
       "[(34, True, 0.031),\n",
       " (0, True, 0.005),\n",
       " (1, True, 0.003),\n",
       " (55, True, 0.045),\n",
       " (144, True, 0.123),\n",
       " (102334155, True, 35425.02)]"
      ]
     },
     "execution_count": 53,
     "metadata": {},
     "output_type": "execute_result"
    }
   ],
   "source": [
    "evaluate_test_cases(fib_recursion, tests)"
   ]
  },
  {
   "cell_type": "markdown",
   "metadata": {},
   "source": [
    "Verify that all the test cases were evaluated. We expect them all to fail, since we haven't implemented the function yet.\n",
    "\n",
    "Let's save our work before continuing."
   ]
  },
  {
   "cell_type": "code",
   "execution_count": null,
   "metadata": {},
   "outputs": [],
   "source": []
  },
  {
   "cell_type": "markdown",
   "metadata": {},
   "source": [
    "### 5. Analyze the algorithm's complexity and identify inefficiencies, if any."
   ]
  },
  {
   "cell_type": "code",
   "execution_count": 54,
   "metadata": {},
   "outputs": [],
   "source": [
    "fib_recursion_time_complexity = \"O(2^n)\"\n",
    "fib_recursion_space_complexity = \"O(n)\""
   ]
  },
  {
   "cell_type": "markdown",
   "metadata": {},
   "source": [
    "### 6. Apply the right technique to overcome the inefficiency. Repeat steps 3 to 6."
   ]
  },
  {
   "cell_type": "markdown",
   "metadata": {},
   "source": [
    "### 6.1 Memoisation\n"
   ]
  },
  {
   "cell_type": "code",
   "execution_count": 55,
   "metadata": {},
   "outputs": [],
   "source": [
    "memo = {0: 0, 1: 1} # basic cases\n",
    "\n",
    "\n",
    "def fib_memo(n):\n",
    "    if n not in memo:\n",
    "        memo[n] = fib_memo(n - 1) + fib_memo(n - 2) # memoization\n",
    "    return memo[n]"
   ]
  },
  {
   "cell_type": "code",
   "execution_count": 56,
   "metadata": {},
   "outputs": [
    {
     "name": "stdout",
     "output_type": "stream",
     "text": [
      "\n",
      "\u001b[1mTEST CASE #0\u001b[0m\n",
      "\n",
      "Input:\n",
      "{'n': 9}\n",
      "\n",
      "Expected Output:\n",
      "34\n",
      "\n",
      "\n",
      "Actual Output:\n",
      "34\n",
      "\n",
      "Execution Time:\n",
      "0.019 ms\n",
      "\n",
      "Test Result:\n",
      "\u001b[92mPASSED\u001b[0m\n",
      "\n",
      "\n",
      "\u001b[1mTEST CASE #1\u001b[0m\n",
      "\n",
      "Input:\n",
      "{'n': 0}\n",
      "\n",
      "Expected Output:\n",
      "0\n",
      "\n",
      "\n",
      "Actual Output:\n",
      "0\n",
      "\n",
      "Execution Time:\n",
      "0.003 ms\n",
      "\n",
      "Test Result:\n",
      "\u001b[92mPASSED\u001b[0m\n",
      "\n",
      "\n",
      "\u001b[1mTEST CASE #2\u001b[0m\n",
      "\n",
      "Input:\n",
      "{'n': 2}\n",
      "\n",
      "Expected Output:\n",
      "1\n",
      "\n",
      "\n",
      "Actual Output:\n",
      "1\n",
      "\n",
      "Execution Time:\n",
      "0.003 ms\n",
      "\n",
      "Test Result:\n",
      "\u001b[92mPASSED\u001b[0m\n",
      "\n",
      "\n",
      "\u001b[1mTEST CASE #3\u001b[0m\n",
      "\n",
      "Input:\n",
      "{'n': 10}\n",
      "\n",
      "Expected Output:\n",
      "55\n",
      "\n",
      "\n",
      "Actual Output:\n",
      "55\n",
      "\n",
      "Execution Time:\n",
      "0.006 ms\n",
      "\n",
      "Test Result:\n",
      "\u001b[92mPASSED\u001b[0m\n",
      "\n",
      "\n",
      "\u001b[1mTEST CASE #4\u001b[0m\n",
      "\n",
      "Input:\n",
      "{'n': 12}\n",
      "\n",
      "Expected Output:\n",
      "144\n",
      "\n",
      "\n",
      "Actual Output:\n",
      "144\n",
      "\n",
      "Execution Time:\n",
      "0.006 ms\n",
      "\n",
      "Test Result:\n",
      "\u001b[92mPASSED\u001b[0m\n",
      "\n",
      "\n",
      "\u001b[1mTEST CASE #5\u001b[0m\n",
      "\n",
      "Input:\n",
      "{'n': 40}\n",
      "\n",
      "Expected Output:\n",
      "102334155\n",
      "\n",
      "\n",
      "Actual Output:\n",
      "102334155\n",
      "\n",
      "Execution Time:\n",
      "0.039 ms\n",
      "\n",
      "Test Result:\n",
      "\u001b[92mPASSED\u001b[0m\n",
      "\n",
      "\n",
      "\u001b[1mSUMMARY\u001b[0m\n",
      "\n",
      "TOTAL: 6, \u001b[92mPASSED\u001b[0m: 6, \u001b[91mFAILED\u001b[0m: 0\n"
     ]
    },
    {
     "data": {
      "text/plain": [
       "[(34, True, 0.019),\n",
       " (0, True, 0.003),\n",
       " (1, True, 0.003),\n",
       " (55, True, 0.006),\n",
       " (144, True, 0.006),\n",
       " (102334155, True, 0.039)]"
      ]
     },
     "execution_count": 56,
     "metadata": {},
     "output_type": "execute_result"
    }
   ],
   "source": [
    "evaluate_test_cases(fib_memo, tests)"
   ]
  },
  {
   "cell_type": "code",
   "execution_count": 57,
   "metadata": {},
   "outputs": [],
   "source": [
    "fib_memo_time_complexity = \"O(n)\"\n",
    "fib_memo_space_complexity = \"O(n)\""
   ]
  },
  {
   "cell_type": "markdown",
   "metadata": {},
   "source": [
    "### 6.1 Iterative Method"
   ]
  },
  {
   "cell_type": "code",
   "execution_count": 58,
   "metadata": {},
   "outputs": [],
   "source": [
    "def fib_iter(n):\n",
    "    if n == 0: return n\n",
    "    last: int = 0\n",
    "    next: int = 1\n",
    "    for _ in range(1, n):\n",
    "        last, next = next, last + next\n",
    "    return next"
   ]
  },
  {
   "cell_type": "code",
   "execution_count": 59,
   "metadata": {},
   "outputs": [
    {
     "name": "stdout",
     "output_type": "stream",
     "text": [
      "\n",
      "\u001b[1mTEST CASE #0\u001b[0m\n",
      "\n",
      "Input:\n",
      "{'n': 9}\n",
      "\n",
      "Expected Output:\n",
      "34\n",
      "\n",
      "\n",
      "Actual Output:\n",
      "34\n",
      "\n",
      "Execution Time:\n",
      "0.007 ms\n",
      "\n",
      "Test Result:\n",
      "\u001b[92mPASSED\u001b[0m\n",
      "\n",
      "\n",
      "\u001b[1mTEST CASE #1\u001b[0m\n",
      "\n",
      "Input:\n",
      "{'n': 0}\n",
      "\n",
      "Expected Output:\n",
      "0\n",
      "\n",
      "\n",
      "Actual Output:\n",
      "0\n",
      "\n",
      "Execution Time:\n",
      "0.002 ms\n",
      "\n",
      "Test Result:\n",
      "\u001b[92mPASSED\u001b[0m\n",
      "\n",
      "\n",
      "\u001b[1mTEST CASE #2\u001b[0m\n",
      "\n",
      "Input:\n",
      "{'n': 2}\n",
      "\n",
      "Expected Output:\n",
      "1\n",
      "\n",
      "\n",
      "Actual Output:\n",
      "1\n",
      "\n",
      "Execution Time:\n",
      "0.005 ms\n",
      "\n",
      "Test Result:\n",
      "\u001b[92mPASSED\u001b[0m\n",
      "\n",
      "\n",
      "\u001b[1mTEST CASE #3\u001b[0m\n",
      "\n",
      "Input:\n",
      "{'n': 10}\n",
      "\n",
      "Expected Output:\n",
      "55\n",
      "\n",
      "\n",
      "Actual Output:\n",
      "55\n",
      "\n",
      "Execution Time:\n",
      "0.006 ms\n",
      "\n",
      "Test Result:\n",
      "\u001b[92mPASSED\u001b[0m\n",
      "\n",
      "\n",
      "\u001b[1mTEST CASE #4\u001b[0m\n",
      "\n",
      "Input:\n",
      "{'n': 12}\n",
      "\n",
      "Expected Output:\n",
      "144\n",
      "\n",
      "\n",
      "Actual Output:\n",
      "144\n",
      "\n",
      "Execution Time:\n",
      "0.005 ms\n",
      "\n",
      "Test Result:\n",
      "\u001b[92mPASSED\u001b[0m\n",
      "\n",
      "\n",
      "\u001b[1mTEST CASE #5\u001b[0m\n",
      "\n",
      "Input:\n",
      "{'n': 40}\n",
      "\n",
      "Expected Output:\n",
      "102334155\n",
      "\n",
      "\n",
      "Actual Output:\n",
      "102334155\n",
      "\n",
      "Execution Time:\n",
      "0.008 ms\n",
      "\n",
      "Test Result:\n",
      "\u001b[92mPASSED\u001b[0m\n",
      "\n",
      "\n",
      "\u001b[1mSUMMARY\u001b[0m\n",
      "\n",
      "TOTAL: 6, \u001b[92mPASSED\u001b[0m: 6, \u001b[91mFAILED\u001b[0m: 0\n"
     ]
    },
    {
     "data": {
      "text/plain": [
       "[(34, True, 0.007),\n",
       " (0, True, 0.002),\n",
       " (1, True, 0.005),\n",
       " (55, True, 0.006),\n",
       " (144, True, 0.005),\n",
       " (102334155, True, 0.008)]"
      ]
     },
     "execution_count": 59,
     "metadata": {},
     "output_type": "execute_result"
    }
   ],
   "source": [
    "evaluate_test_cases(fib_iter, tests)"
   ]
  },
  {
   "cell_type": "code",
   "execution_count": 60,
   "metadata": {},
   "outputs": [],
   "source": [
    "fib_iter_time_complexity = \"O(n)\"\n",
    "fib_iter_space_complexity = \"O(n)\""
   ]
  },
  {
   "cell_type": "code",
   "execution_count": 61,
   "metadata": {},
   "outputs": [
    {
     "data": {
      "application/javascript": [
       "window.require && require([\"base/js/namespace\"],function(Jupyter){Jupyter.notebook.save_checkpoint()})"
      ],
      "text/plain": [
       "<IPython.core.display.Javascript object>"
      ]
     },
     "metadata": {},
     "output_type": "display_data"
    },
    {
     "name": "stdout",
     "output_type": "stream",
     "text": [
      "[jovian] Attempting to save notebook..\n",
      "[jovian] Updating notebook \"aleksmn/python-fibonacci\" on https://jovian.ai/\n",
      "[jovian] Uploading notebook..\n",
      "[jovian] Capturing environment..\n",
      "[jovian] Committed successfully! https://jovian.ai/aleksmn/python-fibonacci\n"
     ]
    },
    {
     "data": {
      "text/plain": [
       "'https://jovian.ai/aleksmn/python-fibonacci'"
      ]
     },
     "execution_count": 61,
     "metadata": {},
     "output_type": "execute_result"
    }
   ],
   "source": [
    "jovian.commit()"
   ]
  },
  {
   "cell_type": "code",
   "execution_count": null,
   "metadata": {},
   "outputs": [],
   "source": []
  }
 ],
 "metadata": {
  "kernelspec": {
   "display_name": "Python 3",
   "language": "python",
   "name": "python3"
  },
  "language_info": {
   "codemirror_mode": {
    "name": "ipython",
    "version": 3
   },
   "file_extension": ".py",
   "mimetype": "text/x-python",
   "name": "python",
   "nbconvert_exporter": "python",
   "pygments_lexer": "ipython3",
   "version": "3.8.5"
  }
 },
 "nbformat": 4,
 "nbformat_minor": 5
}