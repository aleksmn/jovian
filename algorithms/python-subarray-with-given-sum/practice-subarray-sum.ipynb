{
 "metadata": {
  "language_info": {
   "codemirror_mode": {
    "name": "ipython",
    "version": 3
   },
   "file_extension": ".py",
   "mimetype": "text/x-python",
   "name": "python",
   "nbconvert_exporter": "python",
   "pygments_lexer": "ipython3",
   "version": "3.8.5"
  },
  "orig_nbformat": 4,
  "kernelspec": {
   "name": "python3",
   "display_name": "Python 3.8.5 64-bit"
  },
  "interpreter": {
   "hash": "31f2aee4e71d21fbe5cf8b01ff0e069b9275f58929596ceb00d14d90e3e16cd6"
  }
 },
 "nbformat": 4,
 "nbformat_minor": 2,
 "cells": [
  {
   "source": [
    "# Subarray with Given Sum\n"
   ],
   "cell_type": "markdown",
   "metadata": {}
  },
  {
   "source": [
    "> You are given an array of numbers (non-negative). Find a continuous subarray of the list which adds up to a given sum. "
   ],
   "cell_type": "markdown",
   "metadata": {}
  },
  {
   "cell_type": "code",
   "execution_count": 1,
   "metadata": {},
   "outputs": [],
   "source": [
    "# test case\n",
    "arr1 = [1, 7, 4, 2, 1, 3, 11, 5]\n",
    "target1 = 10"
   ]
  },
  {
   "source": [
    "Brute force:"
   ],
   "cell_type": "markdown",
   "metadata": {}
  },
  {
   "cell_type": "code",
   "execution_count": 31,
   "metadata": {},
   "outputs": [],
   "source": [
    "def subarray_sum1(arr, target):\n",
    "    n = len(arr)\n",
    "\n",
    "    for i in range(n-1):\n",
    "        for j in range(i, n):\n",
    "            if sum(arr[i:j]) == target:\n",
    "                return i, j\n",
    "    return None, None        \n"
   ]
  },
  {
   "cell_type": "code",
   "execution_count": 32,
   "metadata": {},
   "outputs": [
    {
     "output_type": "execute_result",
     "data": {
      "text/plain": [
       "(2, 6, [4, 2, 1, 3])"
      ]
     },
     "metadata": {},
     "execution_count": 32
    }
   ],
   "source": [
    "i, j = subarray_sum1(arr1, target1)\n",
    "i, j, arr1[i:j]"
   ]
  },
  {
   "source": [
    "Better brute forse"
   ],
   "cell_type": "markdown",
   "metadata": {}
  },
  {
   "cell_type": "code",
   "execution_count": 33,
   "metadata": {},
   "outputs": [],
   "source": [
    "def subarray_sum2(arr, target):\n",
    "    n = len(arr)\n",
    "    for i in range(n-1):\n",
    "        s = 0\n",
    "        for j in range(i, n):\n",
    "            if s == target:\n",
    "                return i,j\n",
    "            s += arr[j]\n",
    "    return None, None     \n"
   ]
  },
  {
   "cell_type": "code",
   "execution_count": 34,
   "metadata": {},
   "outputs": [
    {
     "output_type": "execute_result",
     "data": {
      "text/plain": [
       "(2, 6, [4, 2, 1, 3])"
      ]
     },
     "metadata": {},
     "execution_count": 34
    }
   ],
   "source": [
    "i, j = subarray_sum2(arr1, target1)\n",
    "i, j, arr1[i:j]"
   ]
  },
  {
   "cell_type": "code",
   "execution_count": 39,
   "metadata": {},
   "outputs": [],
   "source": [
    "def subarray_sum3(arr, target):\n",
    "    n = len(arr)\n",
    "    i, j, s = 0, 0, 0\n",
    "    while i < n and j <= n:\n",
    "        if s == target:\n",
    "            return i, j\n",
    "        elif s < target:\n",
    "            s += arr[j]\n",
    "            j += 1\n",
    "        elif s > target:\n",
    "            s -= arr[i]\n",
    "            i += 1\n",
    "    return None, None"
   ]
  },
  {
   "cell_type": "code",
   "execution_count": 40,
   "metadata": {},
   "outputs": [
    {
     "output_type": "execute_result",
     "data": {
      "text/plain": [
       "(2, 6, [4, 2, 1, 3])"
      ]
     },
     "metadata": {},
     "execution_count": 40
    }
   ],
   "source": [
    "i, j = subarray_sum3(arr1, target1)\n",
    "i, j, arr1[i:j]"
   ]
  },
  {
   "cell_type": "code",
   "execution_count": null,
   "metadata": {},
   "outputs": [],
   "source": []
  }
 ]
}