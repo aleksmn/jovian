{
 "metadata": {
  "language_info": {
   "codemirror_mode": {
    "name": "ipython",
    "version": 3
   },
   "file_extension": ".py",
   "mimetype": "text/x-python",
   "name": "python",
   "nbconvert_exporter": "python",
   "pygments_lexer": "ipython3",
   "version": "3.9.5"
  },
  "orig_nbformat": 2,
  "kernelspec": {
   "name": "python3",
   "display_name": "Python 3",
   "language": "python"
  }
 },
 "nbformat": 4,
 "nbformat_minor": 2,
 "cells": [
  {
   "cell_type": "code",
   "execution_count": 2,
   "metadata": {},
   "outputs": [],
   "source": [
    "import numpy as np"
   ]
  },
  {
   "cell_type": "code",
   "execution_count": 3,
   "metadata": {},
   "outputs": [],
   "source": [
    "from urllib.request import urlretrieve"
   ]
  },
  {
   "cell_type": "code",
   "execution_count": 4,
   "metadata": {},
   "outputs": [
    {
     "output_type": "execute_result",
     "data": {
      "text/plain": [
       "('italy-covid-daywise-2.csv', <http.client.HTTPMessage at 0x7f7e7e74df10>)"
      ]
     },
     "metadata": {},
     "execution_count": 4
    }
   ],
   "source": [
    "italy_covid_url = 'https://gist.githubusercontent.com/aakashns/f6a004fa20c84fec53262f9a8bfee775/raw/f309558b1cf5103424cef58e2ecb8704dcd4d74c/italy-covid-daywise.csv'\n",
    "urlretrieve(italy_covid_url, 'italy-covid-daywise-2.csv')"
   ]
  },
  {
   "cell_type": "code",
   "execution_count": 5,
   "metadata": {},
   "outputs": [],
   "source": [
    "import pandas as pd"
   ]
  },
  {
   "cell_type": "code",
   "execution_count": 6,
   "metadata": {},
   "outputs": [],
   "source": [
    "covid_df = pd.read_csv('italy-covid-daywise.csv')"
   ]
  },
  {
   "cell_type": "code",
   "execution_count": 7,
   "metadata": {},
   "outputs": [
    {
     "output_type": "execute_result",
     "data": {
      "text/plain": [
       "           date  new_cases  new_deaths  new_tests\n",
       "243  2020-08-30     1444.0         1.0    53541.0\n",
       "244  2020-08-31     1365.0         4.0    42583.0\n",
       "245  2020-09-01      996.0         6.0    54395.0\n",
       "246  2020-09-02      975.0         8.0        NaN\n",
       "247  2020-09-03     1326.0         6.0        NaN"
      ],
      "text/html": "<div>\n<style scoped>\n    .dataframe tbody tr th:only-of-type {\n        vertical-align: middle;\n    }\n\n    .dataframe tbody tr th {\n        vertical-align: top;\n    }\n\n    .dataframe thead th {\n        text-align: right;\n    }\n</style>\n<table border=\"1\" class=\"dataframe\">\n  <thead>\n    <tr style=\"text-align: right;\">\n      <th></th>\n      <th>date</th>\n      <th>new_cases</th>\n      <th>new_deaths</th>\n      <th>new_tests</th>\n    </tr>\n  </thead>\n  <tbody>\n    <tr>\n      <th>243</th>\n      <td>2020-08-30</td>\n      <td>1444.0</td>\n      <td>1.0</td>\n      <td>53541.0</td>\n    </tr>\n    <tr>\n      <th>244</th>\n      <td>2020-08-31</td>\n      <td>1365.0</td>\n      <td>4.0</td>\n      <td>42583.0</td>\n    </tr>\n    <tr>\n      <th>245</th>\n      <td>2020-09-01</td>\n      <td>996.0</td>\n      <td>6.0</td>\n      <td>54395.0</td>\n    </tr>\n    <tr>\n      <th>246</th>\n      <td>2020-09-02</td>\n      <td>975.0</td>\n      <td>8.0</td>\n      <td>NaN</td>\n    </tr>\n    <tr>\n      <th>247</th>\n      <td>2020-09-03</td>\n      <td>1326.0</td>\n      <td>6.0</td>\n      <td>NaN</td>\n    </tr>\n  </tbody>\n</table>\n</div>"
     },
     "metadata": {},
     "execution_count": 7
    }
   ],
   "source": [
    "covid_df.tail()"
   ]
  },
  {
   "cell_type": "code",
   "execution_count": 8,
   "metadata": {},
   "outputs": [
    {
     "output_type": "execute_result",
     "data": {
      "text/plain": [
       "pandas.core.frame.DataFrame"
      ]
     },
     "metadata": {},
     "execution_count": 8
    }
   ],
   "source": [
    "type(covid_df)"
   ]
  },
  {
   "cell_type": "code",
   "execution_count": 9,
   "metadata": {},
   "outputs": [
    {
     "output_type": "stream",
     "name": "stdout",
     "text": [
      "<class 'pandas.core.frame.DataFrame'>\nRangeIndex: 248 entries, 0 to 247\nData columns (total 4 columns):\n #   Column      Non-Null Count  Dtype  \n---  ------      --------------  -----  \n 0   date        248 non-null    object \n 1   new_cases   248 non-null    float64\n 2   new_deaths  248 non-null    float64\n 3   new_tests   135 non-null    float64\ndtypes: float64(3), object(1)\nmemory usage: 7.9+ KB\n"
     ]
    }
   ],
   "source": [
    "covid_df.info()"
   ]
  },
  {
   "cell_type": "code",
   "execution_count": 10,
   "metadata": {},
   "outputs": [
    {
     "output_type": "execute_result",
     "data": {
      "text/plain": [
       "         new_cases  new_deaths     new_tests\n",
       "count   248.000000  248.000000    135.000000\n",
       "mean   1094.818548  143.133065  31699.674074\n",
       "std    1554.508002  227.105538  11622.209757\n",
       "min    -148.000000  -31.000000   7841.000000\n",
       "25%     123.000000    3.000000  25259.000000\n",
       "50%     342.000000   17.000000  29545.000000\n",
       "75%    1371.750000  175.250000  37711.000000\n",
       "max    6557.000000  971.000000  95273.000000"
      ],
      "text/html": "<div>\n<style scoped>\n    .dataframe tbody tr th:only-of-type {\n        vertical-align: middle;\n    }\n\n    .dataframe tbody tr th {\n        vertical-align: top;\n    }\n\n    .dataframe thead th {\n        text-align: right;\n    }\n</style>\n<table border=\"1\" class=\"dataframe\">\n  <thead>\n    <tr style=\"text-align: right;\">\n      <th></th>\n      <th>new_cases</th>\n      <th>new_deaths</th>\n      <th>new_tests</th>\n    </tr>\n  </thead>\n  <tbody>\n    <tr>\n      <th>count</th>\n      <td>248.000000</td>\n      <td>248.000000</td>\n      <td>135.000000</td>\n    </tr>\n    <tr>\n      <th>mean</th>\n      <td>1094.818548</td>\n      <td>143.133065</td>\n      <td>31699.674074</td>\n    </tr>\n    <tr>\n      <th>std</th>\n      <td>1554.508002</td>\n      <td>227.105538</td>\n      <td>11622.209757</td>\n    </tr>\n    <tr>\n      <th>min</th>\n      <td>-148.000000</td>\n      <td>-31.000000</td>\n      <td>7841.000000</td>\n    </tr>\n    <tr>\n      <th>25%</th>\n      <td>123.000000</td>\n      <td>3.000000</td>\n      <td>25259.000000</td>\n    </tr>\n    <tr>\n      <th>50%</th>\n      <td>342.000000</td>\n      <td>17.000000</td>\n      <td>29545.000000</td>\n    </tr>\n    <tr>\n      <th>75%</th>\n      <td>1371.750000</td>\n      <td>175.250000</td>\n      <td>37711.000000</td>\n    </tr>\n    <tr>\n      <th>max</th>\n      <td>6557.000000</td>\n      <td>971.000000</td>\n      <td>95273.000000</td>\n    </tr>\n  </tbody>\n</table>\n</div>"
     },
     "metadata": {},
     "execution_count": 10
    }
   ],
   "source": [
    "covid_df.describe()"
   ]
  },
  {
   "cell_type": "code",
   "execution_count": 11,
   "metadata": {},
   "outputs": [
    {
     "output_type": "execute_result",
     "data": {
      "text/plain": [
       "0         0.0\n",
       "1         0.0\n",
       "2         0.0\n",
       "3         0.0\n",
       "4         0.0\n",
       "        ...  \n",
       "243    1444.0\n",
       "244    1365.0\n",
       "245     996.0\n",
       "246     975.0\n",
       "247    1326.0\n",
       "Name: new_cases, Length: 248, dtype: float64"
      ]
     },
     "metadata": {},
     "execution_count": 11
    }
   ],
   "source": [
    "covid_df['new_cases']"
   ]
  },
  {
   "cell_type": "code",
   "execution_count": 12,
   "metadata": {},
   "outputs": [
    {
     "output_type": "execute_result",
     "data": {
      "text/plain": [
       "1366.0"
      ]
     },
     "metadata": {},
     "execution_count": 12
    }
   ],
   "source": [
    "covid_df['new_cases'][240]"
   ]
  },
  {
   "cell_type": "code",
   "execution_count": 13,
   "metadata": {},
   "outputs": [
    {
     "output_type": "execute_result",
     "data": {
      "text/plain": [
       "57640.0"
      ]
     },
     "metadata": {},
     "execution_count": 13
    }
   ],
   "source": [
    "covid_df.at[240, 'new_tests']"
   ]
  },
  {
   "cell_type": "code",
   "execution_count": 14,
   "metadata": {},
   "outputs": [
    {
     "output_type": "execute_result",
     "data": {
      "text/plain": [
       "231.0"
      ]
     },
     "metadata": {},
     "execution_count": 14
    }
   ],
   "source": [
    "covid_df.new_cases[200]"
   ]
  },
  {
   "cell_type": "code",
   "execution_count": 15,
   "metadata": {},
   "outputs": [
    {
     "output_type": "execute_result",
     "data": {
      "text/plain": [
       "[231.0, 249.0, 218.0, 190.0, 128.0, 280.0, 306.0, 252.0, 274.0, 254.0]"
      ]
     },
     "metadata": {},
     "execution_count": 15
    }
   ],
   "source": [
    "[covid_df.new_cases[x] for x in range(200, 210)]"
   ]
  },
  {
   "cell_type": "code",
   "execution_count": 16,
   "metadata": {},
   "outputs": [
    {
     "output_type": "execute_result",
     "data": {
      "text/plain": [
       "230     477.0\n",
       "231     320.0\n",
       "232     401.0\n",
       "233     642.0\n",
       "234     840.0\n",
       "235     947.0\n",
       "236    1071.0\n",
       "237    1209.0\n",
       "238     953.0\n",
       "239     876.0\n",
       "240    1366.0\n",
       "241    1409.0\n",
       "242    1460.0\n",
       "243    1444.0\n",
       "244    1365.0\n",
       "245     996.0\n",
       "246     975.0\n",
       "247    1326.0\n",
       "Name: new_cases, dtype: float64"
      ]
     },
     "metadata": {},
     "execution_count": 16
    }
   ],
   "source": [
    "covid_df.new_cases[230:]"
   ]
  },
  {
   "cell_type": "code",
   "execution_count": 17,
   "metadata": {},
   "outputs": [
    {
     "output_type": "execute_result",
     "data": {
      "text/plain": [
       "           date  new_cases\n",
       "243  2020-08-30     1444.0\n",
       "244  2020-08-31     1365.0\n",
       "245  2020-09-01      996.0\n",
       "246  2020-09-02      975.0\n",
       "247  2020-09-03     1326.0"
      ],
      "text/html": "<div>\n<style scoped>\n    .dataframe tbody tr th:only-of-type {\n        vertical-align: middle;\n    }\n\n    .dataframe tbody tr th {\n        vertical-align: top;\n    }\n\n    .dataframe thead th {\n        text-align: right;\n    }\n</style>\n<table border=\"1\" class=\"dataframe\">\n  <thead>\n    <tr style=\"text-align: right;\">\n      <th></th>\n      <th>date</th>\n      <th>new_cases</th>\n    </tr>\n  </thead>\n  <tbody>\n    <tr>\n      <th>243</th>\n      <td>2020-08-30</td>\n      <td>1444.0</td>\n    </tr>\n    <tr>\n      <th>244</th>\n      <td>2020-08-31</td>\n      <td>1365.0</td>\n    </tr>\n    <tr>\n      <th>245</th>\n      <td>2020-09-01</td>\n      <td>996.0</td>\n    </tr>\n    <tr>\n      <th>246</th>\n      <td>2020-09-02</td>\n      <td>975.0</td>\n    </tr>\n    <tr>\n      <th>247</th>\n      <td>2020-09-03</td>\n      <td>1326.0</td>\n    </tr>\n  </tbody>\n</table>\n</div>"
     },
     "metadata": {},
     "execution_count": 17
    }
   ],
   "source": [
    "covid_df[['date', 'new_cases']][-5:]"
   ]
  },
  {
   "cell_type": "code",
   "execution_count": 18,
   "metadata": {},
   "outputs": [
    {
     "output_type": "execute_result",
     "data": {
      "text/plain": [
       "           date  new_cases  new_deaths  new_tests\n",
       "122  2020-05-01     1872.0       285.0    43732.0\n",
       "155  2020-06-03      318.0        55.0    20035.0\n",
       "145  2020-05-24      669.0       119.0    34206.0\n",
       "177  2020-06-25      577.0       -31.0    29421.0\n",
       "126  2020-05-05     1221.0       195.0    32211.0\n",
       "194  2020-07-12      188.0         7.0    23061.0\n",
       "153  2020-06-01      355.0        75.0    18053.0\n",
       "164  2020-06-12      379.0        53.0    37651.0\n",
       "33   2020-02-02        0.0         0.0        NaN\n",
       "21   2020-01-21        0.0         0.0        NaN"
      ],
      "text/html": "<div>\n<style scoped>\n    .dataframe tbody tr th:only-of-type {\n        vertical-align: middle;\n    }\n\n    .dataframe tbody tr th {\n        vertical-align: top;\n    }\n\n    .dataframe thead th {\n        text-align: right;\n    }\n</style>\n<table border=\"1\" class=\"dataframe\">\n  <thead>\n    <tr style=\"text-align: right;\">\n      <th></th>\n      <th>date</th>\n      <th>new_cases</th>\n      <th>new_deaths</th>\n      <th>new_tests</th>\n    </tr>\n  </thead>\n  <tbody>\n    <tr>\n      <th>122</th>\n      <td>2020-05-01</td>\n      <td>1872.0</td>\n      <td>285.0</td>\n      <td>43732.0</td>\n    </tr>\n    <tr>\n      <th>155</th>\n      <td>2020-06-03</td>\n      <td>318.0</td>\n      <td>55.0</td>\n      <td>20035.0</td>\n    </tr>\n    <tr>\n      <th>145</th>\n      <td>2020-05-24</td>\n      <td>669.0</td>\n      <td>119.0</td>\n      <td>34206.0</td>\n    </tr>\n    <tr>\n      <th>177</th>\n      <td>2020-06-25</td>\n      <td>577.0</td>\n      <td>-31.0</td>\n      <td>29421.0</td>\n    </tr>\n    <tr>\n      <th>126</th>\n      <td>2020-05-05</td>\n      <td>1221.0</td>\n      <td>195.0</td>\n      <td>32211.0</td>\n    </tr>\n    <tr>\n      <th>194</th>\n      <td>2020-07-12</td>\n      <td>188.0</td>\n      <td>7.0</td>\n      <td>23061.0</td>\n    </tr>\n    <tr>\n      <th>153</th>\n      <td>2020-06-01</td>\n      <td>355.0</td>\n      <td>75.0</td>\n      <td>18053.0</td>\n    </tr>\n    <tr>\n      <th>164</th>\n      <td>2020-06-12</td>\n      <td>379.0</td>\n      <td>53.0</td>\n      <td>37651.0</td>\n    </tr>\n    <tr>\n      <th>33</th>\n      <td>2020-02-02</td>\n      <td>0.0</td>\n      <td>0.0</td>\n      <td>NaN</td>\n    </tr>\n    <tr>\n      <th>21</th>\n      <td>2020-01-21</td>\n      <td>0.0</td>\n      <td>0.0</td>\n      <td>NaN</td>\n    </tr>\n  </tbody>\n</table>\n</div>"
     },
     "metadata": {},
     "execution_count": 18
    }
   ],
   "source": [
    "# Get random data\n",
    "\n",
    "covid_df.sample(10)"
   ]
  },
  {
   "cell_type": "code",
   "execution_count": 23,
   "metadata": {},
   "outputs": [
    {
     "output_type": "execute_result",
     "data": {
      "text/plain": [
       "           date  new_cases  new_deaths  new_tests\n",
       "153  2020-06-01      355.0        75.0    18053.0\n",
       "154  2020-06-02      178.0        60.0    25628.0\n",
       "155  2020-06-03      318.0        55.0    20035.0\n",
       "156  2020-06-04      321.0        71.0    27451.0\n",
       "157  2020-06-05      177.0        88.0    40470.0\n",
       "158  2020-06-06      518.0        85.0    34036.0\n",
       "159  2020-06-07      270.0        72.0    27894.0\n",
       "160  2020-06-08      197.0        53.0    16301.0"
      ],
      "text/html": "<div>\n<style scoped>\n    .dataframe tbody tr th:only-of-type {\n        vertical-align: middle;\n    }\n\n    .dataframe tbody tr th {\n        vertical-align: top;\n    }\n\n    .dataframe thead th {\n        text-align: right;\n    }\n</style>\n<table border=\"1\" class=\"dataframe\">\n  <thead>\n    <tr style=\"text-align: right;\">\n      <th></th>\n      <th>date</th>\n      <th>new_cases</th>\n      <th>new_deaths</th>\n      <th>new_tests</th>\n    </tr>\n  </thead>\n  <tbody>\n    <tr>\n      <th>153</th>\n      <td>2020-06-01</td>\n      <td>355.0</td>\n      <td>75.0</td>\n      <td>18053.0</td>\n    </tr>\n    <tr>\n      <th>154</th>\n      <td>2020-06-02</td>\n      <td>178.0</td>\n      <td>60.0</td>\n      <td>25628.0</td>\n    </tr>\n    <tr>\n      <th>155</th>\n      <td>2020-06-03</td>\n      <td>318.0</td>\n      <td>55.0</td>\n      <td>20035.0</td>\n    </tr>\n    <tr>\n      <th>156</th>\n      <td>2020-06-04</td>\n      <td>321.0</td>\n      <td>71.0</td>\n      <td>27451.0</td>\n    </tr>\n    <tr>\n      <th>157</th>\n      <td>2020-06-05</td>\n      <td>177.0</td>\n      <td>88.0</td>\n      <td>40470.0</td>\n    </tr>\n    <tr>\n      <th>158</th>\n      <td>2020-06-06</td>\n      <td>518.0</td>\n      <td>85.0</td>\n      <td>34036.0</td>\n    </tr>\n    <tr>\n      <th>159</th>\n      <td>2020-06-07</td>\n      <td>270.0</td>\n      <td>72.0</td>\n      <td>27894.0</td>\n    </tr>\n    <tr>\n      <th>160</th>\n      <td>2020-06-08</td>\n      <td>197.0</td>\n      <td>53.0</td>\n      <td>16301.0</td>\n    </tr>\n  </tbody>\n</table>\n</div>"
     },
     "metadata": {},
     "execution_count": 23
    }
   ],
   "source": [
    "covid_df.loc[153:160]"
   ]
  },
  {
   "cell_type": "code",
   "execution_count": 26,
   "metadata": {},
   "outputs": [],
   "source": [
    "total_cases = covid_df.new_cases.sum()\n",
    "total_deaths = covid_df.new_deaths.sum()"
   ]
  },
  {
   "cell_type": "code",
   "execution_count": 27,
   "metadata": {},
   "outputs": [
    {
     "output_type": "execute_result",
     "data": {
      "text/plain": [
       "(271515.0, 35497.0)"
      ]
     },
     "metadata": {},
     "execution_count": 27
    }
   ],
   "source": [
    "total_cases, total_deaths"
   ]
  },
  {
   "source": [
    "**Q: What is the overall death rate (ratio of reported deaths to reported cases)?**"
   ],
   "cell_type": "markdown",
   "metadata": {}
  },
  {
   "cell_type": "code",
   "execution_count": 31,
   "metadata": {},
   "outputs": [],
   "source": [
    "death_rate = covid_df.new_deaths.sum() /covid_df.new_cases.sum()"
   ]
  },
  {
   "cell_type": "code",
   "execution_count": 35,
   "metadata": {},
   "outputs": [
    {
     "output_type": "stream",
     "name": "stdout",
     "text": [
      "The overall death rate in Italy is 13.07%\n"
     ]
    }
   ],
   "source": [
    "print(\"The overall death rate in Italy is {:.2f}%\".format(death_rate*100))"
   ]
  },
  {
   "source": [
    "**Q: What is the overall number of tests conducted? A total of 935310 tests were conducted before daily test numbers were reported.**\n"
   ],
   "cell_type": "markdown",
   "metadata": {}
  },
  {
   "cell_type": "code",
   "execution_count": 36,
   "metadata": {},
   "outputs": [],
   "source": [
    "initial_tests = 935310\n",
    "total_tests = initial_tests + covid_df.new_tests.sum()"
   ]
  },
  {
   "cell_type": "code",
   "execution_count": 37,
   "metadata": {},
   "outputs": [
    {
     "output_type": "execute_result",
     "data": {
      "text/plain": [
       "5214766.0"
      ]
     },
     "metadata": {},
     "execution_count": 37
    }
   ],
   "source": [
    "total_tests"
   ]
  },
  {
   "cell_type": "code",
   "execution_count": 41,
   "metadata": {},
   "outputs": [],
   "source": [
    "high_new_cases = covid_df.new_cases > 1000"
   ]
  },
  {
   "cell_type": "code",
   "execution_count": 42,
   "metadata": {},
   "outputs": [
    {
     "output_type": "execute_result",
     "data": {
      "text/plain": [
       "0      False\n",
       "1      False\n",
       "2      False\n",
       "3      False\n",
       "4      False\n",
       "       ...  \n",
       "243     True\n",
       "244     True\n",
       "245    False\n",
       "246    False\n",
       "247     True\n",
       "Name: new_cases, Length: 248, dtype: bool"
      ]
     },
     "metadata": {},
     "execution_count": 42
    }
   ],
   "source": [
    "high_new_cases"
   ]
  },
  {
   "cell_type": "code",
   "execution_count": 51,
   "metadata": {},
   "outputs": [
    {
     "output_type": "execute_result",
     "data": {
      "text/plain": [
       "           date  new_cases  new_deaths  new_tests\n",
       "68   2020-03-08     1247.0        36.0        NaN\n",
       "69   2020-03-09     1492.0       133.0        NaN\n",
       "70   2020-03-10     1797.0        98.0        NaN\n",
       "72   2020-03-12     2313.0       196.0        NaN\n",
       "73   2020-03-13     2651.0       189.0        NaN\n",
       "..          ...        ...         ...        ...\n",
       "241  2020-08-28     1409.0         5.0    65135.0\n",
       "242  2020-08-29     1460.0         9.0    64294.0\n",
       "243  2020-08-30     1444.0         1.0    53541.0\n",
       "244  2020-08-31     1365.0         4.0    42583.0\n",
       "247  2020-09-03     1326.0         6.0        NaN\n",
       "\n",
       "[72 rows x 4 columns]"
      ],
      "text/html": "<div>\n<style scoped>\n    .dataframe tbody tr th:only-of-type {\n        vertical-align: middle;\n    }\n\n    .dataframe tbody tr th {\n        vertical-align: top;\n    }\n\n    .dataframe thead th {\n        text-align: right;\n    }\n</style>\n<table border=\"1\" class=\"dataframe\">\n  <thead>\n    <tr style=\"text-align: right;\">\n      <th></th>\n      <th>date</th>\n      <th>new_cases</th>\n      <th>new_deaths</th>\n      <th>new_tests</th>\n    </tr>\n  </thead>\n  <tbody>\n    <tr>\n      <th>68</th>\n      <td>2020-03-08</td>\n      <td>1247.0</td>\n      <td>36.0</td>\n      <td>NaN</td>\n    </tr>\n    <tr>\n      <th>69</th>\n      <td>2020-03-09</td>\n      <td>1492.0</td>\n      <td>133.0</td>\n      <td>NaN</td>\n    </tr>\n    <tr>\n      <th>70</th>\n      <td>2020-03-10</td>\n      <td>1797.0</td>\n      <td>98.0</td>\n      <td>NaN</td>\n    </tr>\n    <tr>\n      <th>72</th>\n      <td>2020-03-12</td>\n      <td>2313.0</td>\n      <td>196.0</td>\n      <td>NaN</td>\n    </tr>\n    <tr>\n      <th>73</th>\n      <td>2020-03-13</td>\n      <td>2651.0</td>\n      <td>189.0</td>\n      <td>NaN</td>\n    </tr>\n    <tr>\n      <th>...</th>\n      <td>...</td>\n      <td>...</td>\n      <td>...</td>\n      <td>...</td>\n    </tr>\n    <tr>\n      <th>241</th>\n      <td>2020-08-28</td>\n      <td>1409.0</td>\n      <td>5.0</td>\n      <td>65135.0</td>\n    </tr>\n    <tr>\n      <th>242</th>\n      <td>2020-08-29</td>\n      <td>1460.0</td>\n      <td>9.0</td>\n      <td>64294.0</td>\n    </tr>\n    <tr>\n      <th>243</th>\n      <td>2020-08-30</td>\n      <td>1444.0</td>\n      <td>1.0</td>\n      <td>53541.0</td>\n    </tr>\n    <tr>\n      <th>244</th>\n      <td>2020-08-31</td>\n      <td>1365.0</td>\n      <td>4.0</td>\n      <td>42583.0</td>\n    </tr>\n    <tr>\n      <th>247</th>\n      <td>2020-09-03</td>\n      <td>1326.0</td>\n      <td>6.0</td>\n      <td>NaN</td>\n    </tr>\n  </tbody>\n</table>\n<p>72 rows × 4 columns</p>\n</div>"
     },
     "metadata": {},
     "execution_count": 51
    }
   ],
   "source": [
    "covid_df[high_new_cases]"
   ]
  },
  {
   "cell_type": "code",
   "execution_count": 60,
   "metadata": {},
   "outputs": [
    {
     "output_type": "execute_result",
     "data": {
      "text/plain": [
       "           date  new_cases  new_deaths  new_tests\n",
       "172  2020-06-20     -148.0        47.0    29875.0\n",
       "0    2019-12-31        0.0         0.0        NaN\n",
       "29   2020-01-29        0.0         0.0        NaN\n",
       "30   2020-01-30        0.0         0.0        NaN\n",
       "32   2020-02-01        0.0         0.0        NaN\n",
       "33   2020-02-02        0.0         0.0        NaN\n",
       "34   2020-02-03        0.0         0.0        NaN\n",
       "36   2020-02-05        0.0         0.0        NaN\n",
       "37   2020-02-06        0.0         0.0        NaN\n",
       "38   2020-02-07        0.0         0.0        NaN"
      ],
      "text/html": "<div>\n<style scoped>\n    .dataframe tbody tr th:only-of-type {\n        vertical-align: middle;\n    }\n\n    .dataframe tbody tr th {\n        vertical-align: top;\n    }\n\n    .dataframe thead th {\n        text-align: right;\n    }\n</style>\n<table border=\"1\" class=\"dataframe\">\n  <thead>\n    <tr style=\"text-align: right;\">\n      <th></th>\n      <th>date</th>\n      <th>new_cases</th>\n      <th>new_deaths</th>\n      <th>new_tests</th>\n    </tr>\n  </thead>\n  <tbody>\n    <tr>\n      <th>172</th>\n      <td>2020-06-20</td>\n      <td>-148.0</td>\n      <td>47.0</td>\n      <td>29875.0</td>\n    </tr>\n    <tr>\n      <th>0</th>\n      <td>2019-12-31</td>\n      <td>0.0</td>\n      <td>0.0</td>\n      <td>NaN</td>\n    </tr>\n    <tr>\n      <th>29</th>\n      <td>2020-01-29</td>\n      <td>0.0</td>\n      <td>0.0</td>\n      <td>NaN</td>\n    </tr>\n    <tr>\n      <th>30</th>\n      <td>2020-01-30</td>\n      <td>0.0</td>\n      <td>0.0</td>\n      <td>NaN</td>\n    </tr>\n    <tr>\n      <th>32</th>\n      <td>2020-02-01</td>\n      <td>0.0</td>\n      <td>0.0</td>\n      <td>NaN</td>\n    </tr>\n    <tr>\n      <th>33</th>\n      <td>2020-02-02</td>\n      <td>0.0</td>\n      <td>0.0</td>\n      <td>NaN</td>\n    </tr>\n    <tr>\n      <th>34</th>\n      <td>2020-02-03</td>\n      <td>0.0</td>\n      <td>0.0</td>\n      <td>NaN</td>\n    </tr>\n    <tr>\n      <th>36</th>\n      <td>2020-02-05</td>\n      <td>0.0</td>\n      <td>0.0</td>\n      <td>NaN</td>\n    </tr>\n    <tr>\n      <th>37</th>\n      <td>2020-02-06</td>\n      <td>0.0</td>\n      <td>0.0</td>\n      <td>NaN</td>\n    </tr>\n    <tr>\n      <th>38</th>\n      <td>2020-02-07</td>\n      <td>0.0</td>\n      <td>0.0</td>\n      <td>NaN</td>\n    </tr>\n  </tbody>\n</table>\n</div>"
     },
     "metadata": {},
     "execution_count": 60
    }
   ],
   "source": [
    "covid_df.sort_values('new_cases', ascending=True).head(10)"
   ]
  },
  {
   "cell_type": "code",
   "execution_count": 59,
   "metadata": {},
   "outputs": [],
   "source": [
    "# help(covid_df.sort_values)"
   ]
  },
  {
   "cell_type": "code",
   "execution_count": 61,
   "metadata": {},
   "outputs": [
    {
     "output_type": "execute_result",
     "data": {
      "text/plain": [
       "           date  new_cases  new_deaths  new_tests\n",
       "169  2020-06-17      210.0        34.0    33957.0\n",
       "170  2020-06-18      328.0        43.0    32921.0\n",
       "171  2020-06-19      331.0        66.0    28570.0\n",
       "172  2020-06-20     -148.0        47.0    29875.0\n",
       "173  2020-06-21      264.0        49.0    24581.0\n",
       "174  2020-06-22      224.0        24.0    16152.0\n",
       "175  2020-06-23      221.0        23.0    23225.0"
      ],
      "text/html": "<div>\n<style scoped>\n    .dataframe tbody tr th:only-of-type {\n        vertical-align: middle;\n    }\n\n    .dataframe tbody tr th {\n        vertical-align: top;\n    }\n\n    .dataframe thead th {\n        text-align: right;\n    }\n</style>\n<table border=\"1\" class=\"dataframe\">\n  <thead>\n    <tr style=\"text-align: right;\">\n      <th></th>\n      <th>date</th>\n      <th>new_cases</th>\n      <th>new_deaths</th>\n      <th>new_tests</th>\n    </tr>\n  </thead>\n  <tbody>\n    <tr>\n      <th>169</th>\n      <td>2020-06-17</td>\n      <td>210.0</td>\n      <td>34.0</td>\n      <td>33957.0</td>\n    </tr>\n    <tr>\n      <th>170</th>\n      <td>2020-06-18</td>\n      <td>328.0</td>\n      <td>43.0</td>\n      <td>32921.0</td>\n    </tr>\n    <tr>\n      <th>171</th>\n      <td>2020-06-19</td>\n      <td>331.0</td>\n      <td>66.0</td>\n      <td>28570.0</td>\n    </tr>\n    <tr>\n      <th>172</th>\n      <td>2020-06-20</td>\n      <td>-148.0</td>\n      <td>47.0</td>\n      <td>29875.0</td>\n    </tr>\n    <tr>\n      <th>173</th>\n      <td>2020-06-21</td>\n      <td>264.0</td>\n      <td>49.0</td>\n      <td>24581.0</td>\n    </tr>\n    <tr>\n      <th>174</th>\n      <td>2020-06-22</td>\n      <td>224.0</td>\n      <td>24.0</td>\n      <td>16152.0</td>\n    </tr>\n    <tr>\n      <th>175</th>\n      <td>2020-06-23</td>\n      <td>221.0</td>\n      <td>23.0</td>\n      <td>23225.0</td>\n    </tr>\n  </tbody>\n</table>\n</div>"
     },
     "metadata": {},
     "execution_count": 61
    }
   ],
   "source": [
    "covid_df.loc[169:175]"
   ]
  },
  {
   "cell_type": "code",
   "execution_count": 62,
   "metadata": {},
   "outputs": [],
   "source": [
    "covid_df.at[172, 'new_cases'] = (covid_df.at[171, 'new_cases'] + covid_df.at[173, 'new_cases'])/2"
   ]
  },
  {
   "cell_type": "code",
   "execution_count": 63,
   "metadata": {},
   "outputs": [
    {
     "output_type": "execute_result",
     "data": {
      "text/plain": [
       "           date  new_cases  new_deaths  new_tests\n",
       "169  2020-06-17      210.0        34.0    33957.0\n",
       "170  2020-06-18      328.0        43.0    32921.0\n",
       "171  2020-06-19      331.0        66.0    28570.0\n",
       "172  2020-06-20      297.5        47.0    29875.0\n",
       "173  2020-06-21      264.0        49.0    24581.0\n",
       "174  2020-06-22      224.0        24.0    16152.0\n",
       "175  2020-06-23      221.0        23.0    23225.0"
      ],
      "text/html": "<div>\n<style scoped>\n    .dataframe tbody tr th:only-of-type {\n        vertical-align: middle;\n    }\n\n    .dataframe tbody tr th {\n        vertical-align: top;\n    }\n\n    .dataframe thead th {\n        text-align: right;\n    }\n</style>\n<table border=\"1\" class=\"dataframe\">\n  <thead>\n    <tr style=\"text-align: right;\">\n      <th></th>\n      <th>date</th>\n      <th>new_cases</th>\n      <th>new_deaths</th>\n      <th>new_tests</th>\n    </tr>\n  </thead>\n  <tbody>\n    <tr>\n      <th>169</th>\n      <td>2020-06-17</td>\n      <td>210.0</td>\n      <td>34.0</td>\n      <td>33957.0</td>\n    </tr>\n    <tr>\n      <th>170</th>\n      <td>2020-06-18</td>\n      <td>328.0</td>\n      <td>43.0</td>\n      <td>32921.0</td>\n    </tr>\n    <tr>\n      <th>171</th>\n      <td>2020-06-19</td>\n      <td>331.0</td>\n      <td>66.0</td>\n      <td>28570.0</td>\n    </tr>\n    <tr>\n      <th>172</th>\n      <td>2020-06-20</td>\n      <td>297.5</td>\n      <td>47.0</td>\n      <td>29875.0</td>\n    </tr>\n    <tr>\n      <th>173</th>\n      <td>2020-06-21</td>\n      <td>264.0</td>\n      <td>49.0</td>\n      <td>24581.0</td>\n    </tr>\n    <tr>\n      <th>174</th>\n      <td>2020-06-22</td>\n      <td>224.0</td>\n      <td>24.0</td>\n      <td>16152.0</td>\n    </tr>\n    <tr>\n      <th>175</th>\n      <td>2020-06-23</td>\n      <td>221.0</td>\n      <td>23.0</td>\n      <td>23225.0</td>\n    </tr>\n  </tbody>\n</table>\n</div>"
     },
     "metadata": {},
     "execution_count": 63
    }
   ],
   "source": [
    "covid_df.loc[169:175]"
   ]
  },
  {
   "cell_type": "code",
   "execution_count": null,
   "metadata": {},
   "outputs": [],
   "source": []
  }
 ]
}