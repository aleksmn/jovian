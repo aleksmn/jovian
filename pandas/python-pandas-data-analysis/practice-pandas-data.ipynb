{
 "metadata": {
  "language_info": {
   "codemirror_mode": {
    "name": "ipython",
    "version": 3
   },
   "file_extension": ".py",
   "mimetype": "text/x-python",
   "name": "python",
   "nbconvert_exporter": "python",
   "pygments_lexer": "ipython3",
   "version": "3.9.5"
  },
  "orig_nbformat": 2,
  "kernelspec": {
   "name": "python3",
   "display_name": "Python 3",
   "language": "python"
  }
 },
 "nbformat": 4,
 "nbformat_minor": 2,
 "cells": [
  {
   "cell_type": "code",
   "execution_count": 37,
   "metadata": {},
   "outputs": [],
   "source": [
    "import numpy as np"
   ]
  },
  {
   "cell_type": "code",
   "execution_count": 38,
   "metadata": {},
   "outputs": [],
   "source": [
    "from urllib.request import urlretrieve"
   ]
  },
  {
   "cell_type": "code",
   "execution_count": 39,
   "metadata": {},
   "outputs": [
    {
     "output_type": "execute_result",
     "data": {
      "text/plain": [
       "('italy-covid-daywise-2.csv', <http.client.HTTPMessage at 0x7f5cabb07af0>)"
      ]
     },
     "metadata": {},
     "execution_count": 39
    }
   ],
   "source": [
    "italy_covid_url = 'https://gist.githubusercontent.com/aakashns/f6a004fa20c84fec53262f9a8bfee775/raw/f309558b1cf5103424cef58e2ecb8704dcd4d74c/italy-covid-daywise.csv'\n",
    "urlretrieve(italy_covid_url, 'italy-covid-daywise-2.csv')"
   ]
  },
  {
   "cell_type": "code",
   "execution_count": 40,
   "metadata": {},
   "outputs": [],
   "source": [
    "import pandas as pd"
   ]
  },
  {
   "cell_type": "code",
   "execution_count": 41,
   "metadata": {},
   "outputs": [],
   "source": [
    "covid_df = pd.read_csv('italy-covid-daywise.csv')"
   ]
  },
  {
   "cell_type": "code",
   "execution_count": 42,
   "metadata": {},
   "outputs": [
    {
     "output_type": "execute_result",
     "data": {
      "text/plain": [
       "           date  new_cases  new_deaths  new_tests\n",
       "243  2020-08-30     1444.0         1.0    53541.0\n",
       "244  2020-08-31     1365.0         4.0    42583.0\n",
       "245  2020-09-01      996.0         6.0    54395.0\n",
       "246  2020-09-02      975.0         8.0        NaN\n",
       "247  2020-09-03     1326.0         6.0        NaN"
      ],
      "text/html": "<div>\n<style scoped>\n    .dataframe tbody tr th:only-of-type {\n        vertical-align: middle;\n    }\n\n    .dataframe tbody tr th {\n        vertical-align: top;\n    }\n\n    .dataframe thead th {\n        text-align: right;\n    }\n</style>\n<table border=\"1\" class=\"dataframe\">\n  <thead>\n    <tr style=\"text-align: right;\">\n      <th></th>\n      <th>date</th>\n      <th>new_cases</th>\n      <th>new_deaths</th>\n      <th>new_tests</th>\n    </tr>\n  </thead>\n  <tbody>\n    <tr>\n      <th>243</th>\n      <td>2020-08-30</td>\n      <td>1444.0</td>\n      <td>1.0</td>\n      <td>53541.0</td>\n    </tr>\n    <tr>\n      <th>244</th>\n      <td>2020-08-31</td>\n      <td>1365.0</td>\n      <td>4.0</td>\n      <td>42583.0</td>\n    </tr>\n    <tr>\n      <th>245</th>\n      <td>2020-09-01</td>\n      <td>996.0</td>\n      <td>6.0</td>\n      <td>54395.0</td>\n    </tr>\n    <tr>\n      <th>246</th>\n      <td>2020-09-02</td>\n      <td>975.0</td>\n      <td>8.0</td>\n      <td>NaN</td>\n    </tr>\n    <tr>\n      <th>247</th>\n      <td>2020-09-03</td>\n      <td>1326.0</td>\n      <td>6.0</td>\n      <td>NaN</td>\n    </tr>\n  </tbody>\n</table>\n</div>"
     },
     "metadata": {},
     "execution_count": 42
    }
   ],
   "source": [
    "covid_df.tail()"
   ]
  },
  {
   "cell_type": "code",
   "execution_count": 43,
   "metadata": {},
   "outputs": [
    {
     "output_type": "execute_result",
     "data": {
      "text/plain": [
       "pandas.core.frame.DataFrame"
      ]
     },
     "metadata": {},
     "execution_count": 43
    }
   ],
   "source": [
    "type(covid_df)"
   ]
  },
  {
   "cell_type": "code",
   "execution_count": 44,
   "metadata": {},
   "outputs": [
    {
     "output_type": "stream",
     "name": "stdout",
     "text": [
      "<class 'pandas.core.frame.DataFrame'>\nRangeIndex: 248 entries, 0 to 247\nData columns (total 4 columns):\n #   Column      Non-Null Count  Dtype  \n---  ------      --------------  -----  \n 0   date        248 non-null    object \n 1   new_cases   248 non-null    float64\n 2   new_deaths  248 non-null    float64\n 3   new_tests   135 non-null    float64\ndtypes: float64(3), object(1)\nmemory usage: 7.9+ KB\n"
     ]
    }
   ],
   "source": [
    "covid_df.info()"
   ]
  },
  {
   "cell_type": "code",
   "execution_count": 45,
   "metadata": {},
   "outputs": [
    {
     "output_type": "execute_result",
     "data": {
      "text/plain": [
       "         new_cases  new_deaths     new_tests\n",
       "count   248.000000  248.000000    135.000000\n",
       "mean   1094.818548  143.133065  31699.674074\n",
       "std    1554.508002  227.105538  11622.209757\n",
       "min    -148.000000  -31.000000   7841.000000\n",
       "25%     123.000000    3.000000  25259.000000\n",
       "50%     342.000000   17.000000  29545.000000\n",
       "75%    1371.750000  175.250000  37711.000000\n",
       "max    6557.000000  971.000000  95273.000000"
      ],
      "text/html": "<div>\n<style scoped>\n    .dataframe tbody tr th:only-of-type {\n        vertical-align: middle;\n    }\n\n    .dataframe tbody tr th {\n        vertical-align: top;\n    }\n\n    .dataframe thead th {\n        text-align: right;\n    }\n</style>\n<table border=\"1\" class=\"dataframe\">\n  <thead>\n    <tr style=\"text-align: right;\">\n      <th></th>\n      <th>new_cases</th>\n      <th>new_deaths</th>\n      <th>new_tests</th>\n    </tr>\n  </thead>\n  <tbody>\n    <tr>\n      <th>count</th>\n      <td>248.000000</td>\n      <td>248.000000</td>\n      <td>135.000000</td>\n    </tr>\n    <tr>\n      <th>mean</th>\n      <td>1094.818548</td>\n      <td>143.133065</td>\n      <td>31699.674074</td>\n    </tr>\n    <tr>\n      <th>std</th>\n      <td>1554.508002</td>\n      <td>227.105538</td>\n      <td>11622.209757</td>\n    </tr>\n    <tr>\n      <th>min</th>\n      <td>-148.000000</td>\n      <td>-31.000000</td>\n      <td>7841.000000</td>\n    </tr>\n    <tr>\n      <th>25%</th>\n      <td>123.000000</td>\n      <td>3.000000</td>\n      <td>25259.000000</td>\n    </tr>\n    <tr>\n      <th>50%</th>\n      <td>342.000000</td>\n      <td>17.000000</td>\n      <td>29545.000000</td>\n    </tr>\n    <tr>\n      <th>75%</th>\n      <td>1371.750000</td>\n      <td>175.250000</td>\n      <td>37711.000000</td>\n    </tr>\n    <tr>\n      <th>max</th>\n      <td>6557.000000</td>\n      <td>971.000000</td>\n      <td>95273.000000</td>\n    </tr>\n  </tbody>\n</table>\n</div>"
     },
     "metadata": {},
     "execution_count": 45
    }
   ],
   "source": [
    "covid_df.describe()"
   ]
  },
  {
   "cell_type": "code",
   "execution_count": 46,
   "metadata": {},
   "outputs": [
    {
     "output_type": "execute_result",
     "data": {
      "text/plain": [
       "0         0.0\n",
       "1         0.0\n",
       "2         0.0\n",
       "3         0.0\n",
       "4         0.0\n",
       "        ...  \n",
       "243    1444.0\n",
       "244    1365.0\n",
       "245     996.0\n",
       "246     975.0\n",
       "247    1326.0\n",
       "Name: new_cases, Length: 248, dtype: float64"
      ]
     },
     "metadata": {},
     "execution_count": 46
    }
   ],
   "source": [
    "covid_df['new_cases']"
   ]
  },
  {
   "cell_type": "code",
   "execution_count": 47,
   "metadata": {},
   "outputs": [
    {
     "output_type": "execute_result",
     "data": {
      "text/plain": [
       "1366.0"
      ]
     },
     "metadata": {},
     "execution_count": 47
    }
   ],
   "source": [
    "covid_df['new_cases'][240]"
   ]
  },
  {
   "cell_type": "code",
   "execution_count": 48,
   "metadata": {},
   "outputs": [
    {
     "output_type": "execute_result",
     "data": {
      "text/plain": [
       "57640.0"
      ]
     },
     "metadata": {},
     "execution_count": 48
    }
   ],
   "source": [
    "covid_df.at[240, 'new_tests']"
   ]
  },
  {
   "cell_type": "code",
   "execution_count": 49,
   "metadata": {},
   "outputs": [
    {
     "output_type": "execute_result",
     "data": {
      "text/plain": [
       "231.0"
      ]
     },
     "metadata": {},
     "execution_count": 49
    }
   ],
   "source": [
    "covid_df.new_cases[200]"
   ]
  },
  {
   "cell_type": "code",
   "execution_count": 50,
   "metadata": {},
   "outputs": [
    {
     "output_type": "execute_result",
     "data": {
      "text/plain": [
       "[231.0, 249.0, 218.0, 190.0, 128.0, 280.0, 306.0, 252.0, 274.0, 254.0]"
      ]
     },
     "metadata": {},
     "execution_count": 50
    }
   ],
   "source": [
    "[covid_df.new_cases[x] for x in range(200, 210)]"
   ]
  },
  {
   "cell_type": "code",
   "execution_count": 51,
   "metadata": {},
   "outputs": [
    {
     "output_type": "execute_result",
     "data": {
      "text/plain": [
       "230     477.0\n",
       "231     320.0\n",
       "232     401.0\n",
       "233     642.0\n",
       "234     840.0\n",
       "235     947.0\n",
       "236    1071.0\n",
       "237    1209.0\n",
       "238     953.0\n",
       "239     876.0\n",
       "240    1366.0\n",
       "241    1409.0\n",
       "242    1460.0\n",
       "243    1444.0\n",
       "244    1365.0\n",
       "245     996.0\n",
       "246     975.0\n",
       "247    1326.0\n",
       "Name: new_cases, dtype: float64"
      ]
     },
     "metadata": {},
     "execution_count": 51
    }
   ],
   "source": [
    "covid_df.new_cases[230:]"
   ]
  },
  {
   "cell_type": "code",
   "execution_count": 52,
   "metadata": {},
   "outputs": [
    {
     "output_type": "execute_result",
     "data": {
      "text/plain": [
       "           date  new_cases\n",
       "243  2020-08-30     1444.0\n",
       "244  2020-08-31     1365.0\n",
       "245  2020-09-01      996.0\n",
       "246  2020-09-02      975.0\n",
       "247  2020-09-03     1326.0"
      ],
      "text/html": "<div>\n<style scoped>\n    .dataframe tbody tr th:only-of-type {\n        vertical-align: middle;\n    }\n\n    .dataframe tbody tr th {\n        vertical-align: top;\n    }\n\n    .dataframe thead th {\n        text-align: right;\n    }\n</style>\n<table border=\"1\" class=\"dataframe\">\n  <thead>\n    <tr style=\"text-align: right;\">\n      <th></th>\n      <th>date</th>\n      <th>new_cases</th>\n    </tr>\n  </thead>\n  <tbody>\n    <tr>\n      <th>243</th>\n      <td>2020-08-30</td>\n      <td>1444.0</td>\n    </tr>\n    <tr>\n      <th>244</th>\n      <td>2020-08-31</td>\n      <td>1365.0</td>\n    </tr>\n    <tr>\n      <th>245</th>\n      <td>2020-09-01</td>\n      <td>996.0</td>\n    </tr>\n    <tr>\n      <th>246</th>\n      <td>2020-09-02</td>\n      <td>975.0</td>\n    </tr>\n    <tr>\n      <th>247</th>\n      <td>2020-09-03</td>\n      <td>1326.0</td>\n    </tr>\n  </tbody>\n</table>\n</div>"
     },
     "metadata": {},
     "execution_count": 52
    }
   ],
   "source": [
    "covid_df[['date', 'new_cases']][-5:]"
   ]
  },
  {
   "cell_type": "code",
   "execution_count": 53,
   "metadata": {},
   "outputs": [
    {
     "output_type": "execute_result",
     "data": {
      "text/plain": [
       "           date  new_cases  new_deaths  new_tests\n",
       "225  2020-08-12      412.0         6.0    27330.0\n",
       "147  2020-05-26      300.0        92.0    33944.0\n",
       "31   2020-01-31        3.0         0.0        NaN\n",
       "137  2020-05-16      789.0       242.0    40657.0\n",
       "172  2020-06-20     -148.0        47.0    29875.0\n",
       "209  2020-07-27      254.0         5.0    19374.0\n",
       "94   2020-04-03     4668.0       760.0        NaN\n",
       "110  2020-04-19     3491.0       480.0        NaN\n",
       "194  2020-07-12      188.0         7.0    23061.0\n",
       "85   2020-03-25     5249.0       743.0        NaN"
      ],
      "text/html": "<div>\n<style scoped>\n    .dataframe tbody tr th:only-of-type {\n        vertical-align: middle;\n    }\n\n    .dataframe tbody tr th {\n        vertical-align: top;\n    }\n\n    .dataframe thead th {\n        text-align: right;\n    }\n</style>\n<table border=\"1\" class=\"dataframe\">\n  <thead>\n    <tr style=\"text-align: right;\">\n      <th></th>\n      <th>date</th>\n      <th>new_cases</th>\n      <th>new_deaths</th>\n      <th>new_tests</th>\n    </tr>\n  </thead>\n  <tbody>\n    <tr>\n      <th>225</th>\n      <td>2020-08-12</td>\n      <td>412.0</td>\n      <td>6.0</td>\n      <td>27330.0</td>\n    </tr>\n    <tr>\n      <th>147</th>\n      <td>2020-05-26</td>\n      <td>300.0</td>\n      <td>92.0</td>\n      <td>33944.0</td>\n    </tr>\n    <tr>\n      <th>31</th>\n      <td>2020-01-31</td>\n      <td>3.0</td>\n      <td>0.0</td>\n      <td>NaN</td>\n    </tr>\n    <tr>\n      <th>137</th>\n      <td>2020-05-16</td>\n      <td>789.0</td>\n      <td>242.0</td>\n      <td>40657.0</td>\n    </tr>\n    <tr>\n      <th>172</th>\n      <td>2020-06-20</td>\n      <td>-148.0</td>\n      <td>47.0</td>\n      <td>29875.0</td>\n    </tr>\n    <tr>\n      <th>209</th>\n      <td>2020-07-27</td>\n      <td>254.0</td>\n      <td>5.0</td>\n      <td>19374.0</td>\n    </tr>\n    <tr>\n      <th>94</th>\n      <td>2020-04-03</td>\n      <td>4668.0</td>\n      <td>760.0</td>\n      <td>NaN</td>\n    </tr>\n    <tr>\n      <th>110</th>\n      <td>2020-04-19</td>\n      <td>3491.0</td>\n      <td>480.0</td>\n      <td>NaN</td>\n    </tr>\n    <tr>\n      <th>194</th>\n      <td>2020-07-12</td>\n      <td>188.0</td>\n      <td>7.0</td>\n      <td>23061.0</td>\n    </tr>\n    <tr>\n      <th>85</th>\n      <td>2020-03-25</td>\n      <td>5249.0</td>\n      <td>743.0</td>\n      <td>NaN</td>\n    </tr>\n  </tbody>\n</table>\n</div>"
     },
     "metadata": {},
     "execution_count": 53
    }
   ],
   "source": [
    "# Get random data\n",
    "\n",
    "covid_df.sample(10)"
   ]
  },
  {
   "cell_type": "code",
   "execution_count": 54,
   "metadata": {},
   "outputs": [
    {
     "output_type": "execute_result",
     "data": {
      "text/plain": [
       "           date  new_cases  new_deaths  new_tests\n",
       "153  2020-06-01      355.0        75.0    18053.0\n",
       "154  2020-06-02      178.0        60.0    25628.0\n",
       "155  2020-06-03      318.0        55.0    20035.0\n",
       "156  2020-06-04      321.0        71.0    27451.0\n",
       "157  2020-06-05      177.0        88.0    40470.0\n",
       "158  2020-06-06      518.0        85.0    34036.0\n",
       "159  2020-06-07      270.0        72.0    27894.0\n",
       "160  2020-06-08      197.0        53.0    16301.0"
      ],
      "text/html": "<div>\n<style scoped>\n    .dataframe tbody tr th:only-of-type {\n        vertical-align: middle;\n    }\n\n    .dataframe tbody tr th {\n        vertical-align: top;\n    }\n\n    .dataframe thead th {\n        text-align: right;\n    }\n</style>\n<table border=\"1\" class=\"dataframe\">\n  <thead>\n    <tr style=\"text-align: right;\">\n      <th></th>\n      <th>date</th>\n      <th>new_cases</th>\n      <th>new_deaths</th>\n      <th>new_tests</th>\n    </tr>\n  </thead>\n  <tbody>\n    <tr>\n      <th>153</th>\n      <td>2020-06-01</td>\n      <td>355.0</td>\n      <td>75.0</td>\n      <td>18053.0</td>\n    </tr>\n    <tr>\n      <th>154</th>\n      <td>2020-06-02</td>\n      <td>178.0</td>\n      <td>60.0</td>\n      <td>25628.0</td>\n    </tr>\n    <tr>\n      <th>155</th>\n      <td>2020-06-03</td>\n      <td>318.0</td>\n      <td>55.0</td>\n      <td>20035.0</td>\n    </tr>\n    <tr>\n      <th>156</th>\n      <td>2020-06-04</td>\n      <td>321.0</td>\n      <td>71.0</td>\n      <td>27451.0</td>\n    </tr>\n    <tr>\n      <th>157</th>\n      <td>2020-06-05</td>\n      <td>177.0</td>\n      <td>88.0</td>\n      <td>40470.0</td>\n    </tr>\n    <tr>\n      <th>158</th>\n      <td>2020-06-06</td>\n      <td>518.0</td>\n      <td>85.0</td>\n      <td>34036.0</td>\n    </tr>\n    <tr>\n      <th>159</th>\n      <td>2020-06-07</td>\n      <td>270.0</td>\n      <td>72.0</td>\n      <td>27894.0</td>\n    </tr>\n    <tr>\n      <th>160</th>\n      <td>2020-06-08</td>\n      <td>197.0</td>\n      <td>53.0</td>\n      <td>16301.0</td>\n    </tr>\n  </tbody>\n</table>\n</div>"
     },
     "metadata": {},
     "execution_count": 54
    }
   ],
   "source": [
    "covid_df.loc[153:160]"
   ]
  },
  {
   "cell_type": "code",
   "execution_count": 55,
   "metadata": {},
   "outputs": [],
   "source": [
    "total_cases = covid_df.new_cases.sum()\n",
    "total_deaths = covid_df.new_deaths.sum()"
   ]
  },
  {
   "cell_type": "code",
   "execution_count": 56,
   "metadata": {},
   "outputs": [
    {
     "output_type": "execute_result",
     "data": {
      "text/plain": [
       "(271515.0, 35497.0)"
      ]
     },
     "metadata": {},
     "execution_count": 56
    }
   ],
   "source": [
    "total_cases, total_deaths"
   ]
  },
  {
   "source": [
    "**Q: What is the overall death rate (ratio of reported deaths to reported cases)?**"
   ],
   "cell_type": "markdown",
   "metadata": {}
  },
  {
   "cell_type": "code",
   "execution_count": 57,
   "metadata": {},
   "outputs": [],
   "source": [
    "death_rate = covid_df.new_deaths.sum() /covid_df.new_cases.sum()"
   ]
  },
  {
   "cell_type": "code",
   "execution_count": 58,
   "metadata": {},
   "outputs": [
    {
     "output_type": "stream",
     "name": "stdout",
     "text": [
      "The overall death rate in Italy is 13.07%\n"
     ]
    }
   ],
   "source": [
    "print(\"The overall death rate in Italy is {:.2f}%\".format(death_rate*100))"
   ]
  },
  {
   "source": [
    "**Q: What is the overall number of tests conducted? A total of 935310 tests were conducted before daily test numbers were reported.**\n"
   ],
   "cell_type": "markdown",
   "metadata": {}
  },
  {
   "cell_type": "code",
   "execution_count": 59,
   "metadata": {},
   "outputs": [],
   "source": [
    "initial_tests = 935310\n",
    "total_tests = initial_tests + covid_df.new_tests.sum()"
   ]
  },
  {
   "cell_type": "code",
   "execution_count": 60,
   "metadata": {},
   "outputs": [
    {
     "output_type": "execute_result",
     "data": {
      "text/plain": [
       "5214766.0"
      ]
     },
     "metadata": {},
     "execution_count": 60
    }
   ],
   "source": [
    "total_tests"
   ]
  },
  {
   "cell_type": "code",
   "execution_count": 61,
   "metadata": {},
   "outputs": [],
   "source": [
    "high_new_cases = covid_df.new_cases > 1000"
   ]
  },
  {
   "cell_type": "code",
   "execution_count": 62,
   "metadata": {},
   "outputs": [
    {
     "output_type": "execute_result",
     "data": {
      "text/plain": [
       "0      False\n",
       "1      False\n",
       "2      False\n",
       "3      False\n",
       "4      False\n",
       "       ...  \n",
       "243     True\n",
       "244     True\n",
       "245    False\n",
       "246    False\n",
       "247     True\n",
       "Name: new_cases, Length: 248, dtype: bool"
      ]
     },
     "metadata": {},
     "execution_count": 62
    }
   ],
   "source": [
    "high_new_cases"
   ]
  },
  {
   "cell_type": "code",
   "execution_count": 63,
   "metadata": {},
   "outputs": [
    {
     "output_type": "execute_result",
     "data": {
      "text/plain": [
       "           date  new_cases  new_deaths  new_tests\n",
       "68   2020-03-08     1247.0        36.0        NaN\n",
       "69   2020-03-09     1492.0       133.0        NaN\n",
       "70   2020-03-10     1797.0        98.0        NaN\n",
       "72   2020-03-12     2313.0       196.0        NaN\n",
       "73   2020-03-13     2651.0       189.0        NaN\n",
       "..          ...        ...         ...        ...\n",
       "241  2020-08-28     1409.0         5.0    65135.0\n",
       "242  2020-08-29     1460.0         9.0    64294.0\n",
       "243  2020-08-30     1444.0         1.0    53541.0\n",
       "244  2020-08-31     1365.0         4.0    42583.0\n",
       "247  2020-09-03     1326.0         6.0        NaN\n",
       "\n",
       "[72 rows x 4 columns]"
      ],
      "text/html": "<div>\n<style scoped>\n    .dataframe tbody tr th:only-of-type {\n        vertical-align: middle;\n    }\n\n    .dataframe tbody tr th {\n        vertical-align: top;\n    }\n\n    .dataframe thead th {\n        text-align: right;\n    }\n</style>\n<table border=\"1\" class=\"dataframe\">\n  <thead>\n    <tr style=\"text-align: right;\">\n      <th></th>\n      <th>date</th>\n      <th>new_cases</th>\n      <th>new_deaths</th>\n      <th>new_tests</th>\n    </tr>\n  </thead>\n  <tbody>\n    <tr>\n      <th>68</th>\n      <td>2020-03-08</td>\n      <td>1247.0</td>\n      <td>36.0</td>\n      <td>NaN</td>\n    </tr>\n    <tr>\n      <th>69</th>\n      <td>2020-03-09</td>\n      <td>1492.0</td>\n      <td>133.0</td>\n      <td>NaN</td>\n    </tr>\n    <tr>\n      <th>70</th>\n      <td>2020-03-10</td>\n      <td>1797.0</td>\n      <td>98.0</td>\n      <td>NaN</td>\n    </tr>\n    <tr>\n      <th>72</th>\n      <td>2020-03-12</td>\n      <td>2313.0</td>\n      <td>196.0</td>\n      <td>NaN</td>\n    </tr>\n    <tr>\n      <th>73</th>\n      <td>2020-03-13</td>\n      <td>2651.0</td>\n      <td>189.0</td>\n      <td>NaN</td>\n    </tr>\n    <tr>\n      <th>...</th>\n      <td>...</td>\n      <td>...</td>\n      <td>...</td>\n      <td>...</td>\n    </tr>\n    <tr>\n      <th>241</th>\n      <td>2020-08-28</td>\n      <td>1409.0</td>\n      <td>5.0</td>\n      <td>65135.0</td>\n    </tr>\n    <tr>\n      <th>242</th>\n      <td>2020-08-29</td>\n      <td>1460.0</td>\n      <td>9.0</td>\n      <td>64294.0</td>\n    </tr>\n    <tr>\n      <th>243</th>\n      <td>2020-08-30</td>\n      <td>1444.0</td>\n      <td>1.0</td>\n      <td>53541.0</td>\n    </tr>\n    <tr>\n      <th>244</th>\n      <td>2020-08-31</td>\n      <td>1365.0</td>\n      <td>4.0</td>\n      <td>42583.0</td>\n    </tr>\n    <tr>\n      <th>247</th>\n      <td>2020-09-03</td>\n      <td>1326.0</td>\n      <td>6.0</td>\n      <td>NaN</td>\n    </tr>\n  </tbody>\n</table>\n<p>72 rows × 4 columns</p>\n</div>"
     },
     "metadata": {},
     "execution_count": 63
    }
   ],
   "source": [
    "covid_df[high_new_cases]"
   ]
  },
  {
   "cell_type": "code",
   "execution_count": 64,
   "metadata": {},
   "outputs": [
    {
     "output_type": "execute_result",
     "data": {
      "text/plain": [
       "           date  new_cases  new_deaths  new_tests\n",
       "172  2020-06-20     -148.0        47.0    29875.0\n",
       "0    2019-12-31        0.0         0.0        NaN\n",
       "29   2020-01-29        0.0         0.0        NaN\n",
       "30   2020-01-30        0.0         0.0        NaN\n",
       "32   2020-02-01        0.0         0.0        NaN\n",
       "33   2020-02-02        0.0         0.0        NaN\n",
       "34   2020-02-03        0.0         0.0        NaN\n",
       "36   2020-02-05        0.0         0.0        NaN\n",
       "37   2020-02-06        0.0         0.0        NaN\n",
       "38   2020-02-07        0.0         0.0        NaN"
      ],
      "text/html": "<div>\n<style scoped>\n    .dataframe tbody tr th:only-of-type {\n        vertical-align: middle;\n    }\n\n    .dataframe tbody tr th {\n        vertical-align: top;\n    }\n\n    .dataframe thead th {\n        text-align: right;\n    }\n</style>\n<table border=\"1\" class=\"dataframe\">\n  <thead>\n    <tr style=\"text-align: right;\">\n      <th></th>\n      <th>date</th>\n      <th>new_cases</th>\n      <th>new_deaths</th>\n      <th>new_tests</th>\n    </tr>\n  </thead>\n  <tbody>\n    <tr>\n      <th>172</th>\n      <td>2020-06-20</td>\n      <td>-148.0</td>\n      <td>47.0</td>\n      <td>29875.0</td>\n    </tr>\n    <tr>\n      <th>0</th>\n      <td>2019-12-31</td>\n      <td>0.0</td>\n      <td>0.0</td>\n      <td>NaN</td>\n    </tr>\n    <tr>\n      <th>29</th>\n      <td>2020-01-29</td>\n      <td>0.0</td>\n      <td>0.0</td>\n      <td>NaN</td>\n    </tr>\n    <tr>\n      <th>30</th>\n      <td>2020-01-30</td>\n      <td>0.0</td>\n      <td>0.0</td>\n      <td>NaN</td>\n    </tr>\n    <tr>\n      <th>32</th>\n      <td>2020-02-01</td>\n      <td>0.0</td>\n      <td>0.0</td>\n      <td>NaN</td>\n    </tr>\n    <tr>\n      <th>33</th>\n      <td>2020-02-02</td>\n      <td>0.0</td>\n      <td>0.0</td>\n      <td>NaN</td>\n    </tr>\n    <tr>\n      <th>34</th>\n      <td>2020-02-03</td>\n      <td>0.0</td>\n      <td>0.0</td>\n      <td>NaN</td>\n    </tr>\n    <tr>\n      <th>36</th>\n      <td>2020-02-05</td>\n      <td>0.0</td>\n      <td>0.0</td>\n      <td>NaN</td>\n    </tr>\n    <tr>\n      <th>37</th>\n      <td>2020-02-06</td>\n      <td>0.0</td>\n      <td>0.0</td>\n      <td>NaN</td>\n    </tr>\n    <tr>\n      <th>38</th>\n      <td>2020-02-07</td>\n      <td>0.0</td>\n      <td>0.0</td>\n      <td>NaN</td>\n    </tr>\n  </tbody>\n</table>\n</div>"
     },
     "metadata": {},
     "execution_count": 64
    }
   ],
   "source": [
    "covid_df.sort_values('new_cases', ascending=True).head(10)"
   ]
  },
  {
   "cell_type": "code",
   "execution_count": 65,
   "metadata": {},
   "outputs": [],
   "source": [
    "# help(covid_df.sort_values)"
   ]
  },
  {
   "cell_type": "code",
   "execution_count": 66,
   "metadata": {},
   "outputs": [
    {
     "output_type": "execute_result",
     "data": {
      "text/plain": [
       "           date  new_cases  new_deaths  new_tests\n",
       "169  2020-06-17      210.0        34.0    33957.0\n",
       "170  2020-06-18      328.0        43.0    32921.0\n",
       "171  2020-06-19      331.0        66.0    28570.0\n",
       "172  2020-06-20     -148.0        47.0    29875.0\n",
       "173  2020-06-21      264.0        49.0    24581.0\n",
       "174  2020-06-22      224.0        24.0    16152.0\n",
       "175  2020-06-23      221.0        23.0    23225.0"
      ],
      "text/html": "<div>\n<style scoped>\n    .dataframe tbody tr th:only-of-type {\n        vertical-align: middle;\n    }\n\n    .dataframe tbody tr th {\n        vertical-align: top;\n    }\n\n    .dataframe thead th {\n        text-align: right;\n    }\n</style>\n<table border=\"1\" class=\"dataframe\">\n  <thead>\n    <tr style=\"text-align: right;\">\n      <th></th>\n      <th>date</th>\n      <th>new_cases</th>\n      <th>new_deaths</th>\n      <th>new_tests</th>\n    </tr>\n  </thead>\n  <tbody>\n    <tr>\n      <th>169</th>\n      <td>2020-06-17</td>\n      <td>210.0</td>\n      <td>34.0</td>\n      <td>33957.0</td>\n    </tr>\n    <tr>\n      <th>170</th>\n      <td>2020-06-18</td>\n      <td>328.0</td>\n      <td>43.0</td>\n      <td>32921.0</td>\n    </tr>\n    <tr>\n      <th>171</th>\n      <td>2020-06-19</td>\n      <td>331.0</td>\n      <td>66.0</td>\n      <td>28570.0</td>\n    </tr>\n    <tr>\n      <th>172</th>\n      <td>2020-06-20</td>\n      <td>-148.0</td>\n      <td>47.0</td>\n      <td>29875.0</td>\n    </tr>\n    <tr>\n      <th>173</th>\n      <td>2020-06-21</td>\n      <td>264.0</td>\n      <td>49.0</td>\n      <td>24581.0</td>\n    </tr>\n    <tr>\n      <th>174</th>\n      <td>2020-06-22</td>\n      <td>224.0</td>\n      <td>24.0</td>\n      <td>16152.0</td>\n    </tr>\n    <tr>\n      <th>175</th>\n      <td>2020-06-23</td>\n      <td>221.0</td>\n      <td>23.0</td>\n      <td>23225.0</td>\n    </tr>\n  </tbody>\n</table>\n</div>"
     },
     "metadata": {},
     "execution_count": 66
    }
   ],
   "source": [
    "covid_df.loc[169:175]"
   ]
  },
  {
   "cell_type": "code",
   "execution_count": 67,
   "metadata": {},
   "outputs": [],
   "source": [
    "covid_df.at[172, 'new_cases'] = (covid_df.at[171, 'new_cases'] + covid_df.at[173, 'new_cases'])/2"
   ]
  },
  {
   "cell_type": "code",
   "execution_count": 68,
   "metadata": {},
   "outputs": [
    {
     "output_type": "execute_result",
     "data": {
      "text/plain": [
       "           date  new_cases  new_deaths  new_tests\n",
       "169  2020-06-17      210.0        34.0    33957.0\n",
       "170  2020-06-18      328.0        43.0    32921.0\n",
       "171  2020-06-19      331.0        66.0    28570.0\n",
       "172  2020-06-20      297.5        47.0    29875.0\n",
       "173  2020-06-21      264.0        49.0    24581.0\n",
       "174  2020-06-22      224.0        24.0    16152.0\n",
       "175  2020-06-23      221.0        23.0    23225.0"
      ],
      "text/html": "<div>\n<style scoped>\n    .dataframe tbody tr th:only-of-type {\n        vertical-align: middle;\n    }\n\n    .dataframe tbody tr th {\n        vertical-align: top;\n    }\n\n    .dataframe thead th {\n        text-align: right;\n    }\n</style>\n<table border=\"1\" class=\"dataframe\">\n  <thead>\n    <tr style=\"text-align: right;\">\n      <th></th>\n      <th>date</th>\n      <th>new_cases</th>\n      <th>new_deaths</th>\n      <th>new_tests</th>\n    </tr>\n  </thead>\n  <tbody>\n    <tr>\n      <th>169</th>\n      <td>2020-06-17</td>\n      <td>210.0</td>\n      <td>34.0</td>\n      <td>33957.0</td>\n    </tr>\n    <tr>\n      <th>170</th>\n      <td>2020-06-18</td>\n      <td>328.0</td>\n      <td>43.0</td>\n      <td>32921.0</td>\n    </tr>\n    <tr>\n      <th>171</th>\n      <td>2020-06-19</td>\n      <td>331.0</td>\n      <td>66.0</td>\n      <td>28570.0</td>\n    </tr>\n    <tr>\n      <th>172</th>\n      <td>2020-06-20</td>\n      <td>297.5</td>\n      <td>47.0</td>\n      <td>29875.0</td>\n    </tr>\n    <tr>\n      <th>173</th>\n      <td>2020-06-21</td>\n      <td>264.0</td>\n      <td>49.0</td>\n      <td>24581.0</td>\n    </tr>\n    <tr>\n      <th>174</th>\n      <td>2020-06-22</td>\n      <td>224.0</td>\n      <td>24.0</td>\n      <td>16152.0</td>\n    </tr>\n    <tr>\n      <th>175</th>\n      <td>2020-06-23</td>\n      <td>221.0</td>\n      <td>23.0</td>\n      <td>23225.0</td>\n    </tr>\n  </tbody>\n</table>\n</div>"
     },
     "metadata": {},
     "execution_count": 68
    }
   ],
   "source": [
    "covid_df.loc[169:175]"
   ]
  },
  {
   "source": [
    "## Working with dates\n"
   ],
   "cell_type": "markdown",
   "metadata": {}
  },
  {
   "cell_type": "code",
   "execution_count": 69,
   "metadata": {},
   "outputs": [
    {
     "output_type": "execute_result",
     "data": {
      "text/plain": [
       "0      2019-12-31\n",
       "1      2020-01-01\n",
       "2      2020-01-02\n",
       "3      2020-01-03\n",
       "4      2020-01-04\n",
       "          ...    \n",
       "243    2020-08-30\n",
       "244    2020-08-31\n",
       "245    2020-09-01\n",
       "246    2020-09-02\n",
       "247    2020-09-03\n",
       "Name: date, Length: 248, dtype: object"
      ]
     },
     "metadata": {},
     "execution_count": 69
    }
   ],
   "source": [
    "covid_df['date']"
   ]
  },
  {
   "cell_type": "code",
   "execution_count": 70,
   "metadata": {},
   "outputs": [],
   "source": [
    "covid_df['date'] = pd.to_datetime(covid_df.date)"
   ]
  },
  {
   "cell_type": "code",
   "execution_count": 104,
   "metadata": {},
   "outputs": [],
   "source": [
    "# help(pd.to_datetime)"
   ]
  },
  {
   "cell_type": "code",
   "execution_count": 71,
   "metadata": {},
   "outputs": [
    {
     "output_type": "execute_result",
     "data": {
      "text/plain": [
       "0     2019-12-31\n",
       "1     2020-01-01\n",
       "2     2020-01-02\n",
       "3     2020-01-03\n",
       "4     2020-01-04\n",
       "         ...    \n",
       "243   2020-08-30\n",
       "244   2020-08-31\n",
       "245   2020-09-01\n",
       "246   2020-09-02\n",
       "247   2020-09-03\n",
       "Name: date, Length: 248, dtype: datetime64[ns]"
      ]
     },
     "metadata": {},
     "execution_count": 71
    }
   ],
   "source": [
    "covid_df['date']## Working with dates\n"
   ]
  },
  {
   "cell_type": "code",
   "execution_count": 74,
   "metadata": {},
   "outputs": [],
   "source": [
    "covid_df['year'] = pd.DatetimeIndex(covid_df.date).year\n",
    "covid_df['month'] = pd.DatetimeIndex(covid_df.date).month\n",
    "covid_df['day'] = pd.DatetimeIndex(covid_df.date).day\n",
    "covid_df['weekday'] = pd.DatetimeIndex(covid_df.date).weekday\n"
   ]
  },
  {
   "cell_type": "code",
   "execution_count": 75,
   "metadata": {},
   "outputs": [
    {
     "output_type": "execute_result",
     "data": {
      "text/plain": [
       "          date  new_cases  new_deaths  new_tests  year  month  day  weekday\n",
       "0   2019-12-31        0.0         0.0        NaN  2019     12   31        1\n",
       "1   2020-01-01        0.0         0.0        NaN  2020      1    1        2\n",
       "2   2020-01-02        0.0         0.0        NaN  2020      1    2        3\n",
       "3   2020-01-03        0.0         0.0        NaN  2020      1    3        4\n",
       "4   2020-01-04        0.0         0.0        NaN  2020      1    4        5\n",
       "..         ...        ...         ...        ...   ...    ...  ...      ...\n",
       "243 2020-08-30     1444.0         1.0    53541.0  2020      8   30        6\n",
       "244 2020-08-31     1365.0         4.0    42583.0  2020      8   31        0\n",
       "245 2020-09-01      996.0         6.0    54395.0  2020      9    1        1\n",
       "246 2020-09-02      975.0         8.0        NaN  2020      9    2        2\n",
       "247 2020-09-03     1326.0         6.0        NaN  2020      9    3        3\n",
       "\n",
       "[248 rows x 8 columns]"
      ],
      "text/html": "<div>\n<style scoped>\n    .dataframe tbody tr th:only-of-type {\n        vertical-align: middle;\n    }\n\n    .dataframe tbody tr th {\n        vertical-align: top;\n    }\n\n    .dataframe thead th {\n        text-align: right;\n    }\n</style>\n<table border=\"1\" class=\"dataframe\">\n  <thead>\n    <tr style=\"text-align: right;\">\n      <th></th>\n      <th>date</th>\n      <th>new_cases</th>\n      <th>new_deaths</th>\n      <th>new_tests</th>\n      <th>year</th>\n      <th>month</th>\n      <th>day</th>\n      <th>weekday</th>\n    </tr>\n  </thead>\n  <tbody>\n    <tr>\n      <th>0</th>\n      <td>2019-12-31</td>\n      <td>0.0</td>\n      <td>0.0</td>\n      <td>NaN</td>\n      <td>2019</td>\n      <td>12</td>\n      <td>31</td>\n      <td>1</td>\n    </tr>\n    <tr>\n      <th>1</th>\n      <td>2020-01-01</td>\n      <td>0.0</td>\n      <td>0.0</td>\n      <td>NaN</td>\n      <td>2020</td>\n      <td>1</td>\n      <td>1</td>\n      <td>2</td>\n    </tr>\n    <tr>\n      <th>2</th>\n      <td>2020-01-02</td>\n      <td>0.0</td>\n      <td>0.0</td>\n      <td>NaN</td>\n      <td>2020</td>\n      <td>1</td>\n      <td>2</td>\n      <td>3</td>\n    </tr>\n    <tr>\n      <th>3</th>\n      <td>2020-01-03</td>\n      <td>0.0</td>\n      <td>0.0</td>\n      <td>NaN</td>\n      <td>2020</td>\n      <td>1</td>\n      <td>3</td>\n      <td>4</td>\n    </tr>\n    <tr>\n      <th>4</th>\n      <td>2020-01-04</td>\n      <td>0.0</td>\n      <td>0.0</td>\n      <td>NaN</td>\n      <td>2020</td>\n      <td>1</td>\n      <td>4</td>\n      <td>5</td>\n    </tr>\n    <tr>\n      <th>...</th>\n      <td>...</td>\n      <td>...</td>\n      <td>...</td>\n      <td>...</td>\n      <td>...</td>\n      <td>...</td>\n      <td>...</td>\n      <td>...</td>\n    </tr>\n    <tr>\n      <th>243</th>\n      <td>2020-08-30</td>\n      <td>1444.0</td>\n      <td>1.0</td>\n      <td>53541.0</td>\n      <td>2020</td>\n      <td>8</td>\n      <td>30</td>\n      <td>6</td>\n    </tr>\n    <tr>\n      <th>244</th>\n      <td>2020-08-31</td>\n      <td>1365.0</td>\n      <td>4.0</td>\n      <td>42583.0</td>\n      <td>2020</td>\n      <td>8</td>\n      <td>31</td>\n      <td>0</td>\n    </tr>\n    <tr>\n      <th>245</th>\n      <td>2020-09-01</td>\n      <td>996.0</td>\n      <td>6.0</td>\n      <td>54395.0</td>\n      <td>2020</td>\n      <td>9</td>\n      <td>1</td>\n      <td>1</td>\n    </tr>\n    <tr>\n      <th>246</th>\n      <td>2020-09-02</td>\n      <td>975.0</td>\n      <td>8.0</td>\n      <td>NaN</td>\n      <td>2020</td>\n      <td>9</td>\n      <td>2</td>\n      <td>2</td>\n    </tr>\n    <tr>\n      <th>247</th>\n      <td>2020-09-03</td>\n      <td>1326.0</td>\n      <td>6.0</td>\n      <td>NaN</td>\n      <td>2020</td>\n      <td>9</td>\n      <td>3</td>\n      <td>3</td>\n    </tr>\n  </tbody>\n</table>\n<p>248 rows × 8 columns</p>\n</div>"
     },
     "metadata": {},
     "execution_count": 75
    }
   ],
   "source": [
    "covid_df"
   ]
  },
  {
   "cell_type": "code",
   "execution_count": 79,
   "metadata": {},
   "outputs": [
    {
     "output_type": "execute_result",
     "data": {
      "text/plain": [
       "new_cases       29073.0\n",
       "new_deaths       5658.0\n",
       "new_tests     1078720.0\n",
       "dtype: float64"
      ]
     },
     "metadata": {},
     "execution_count": 79
    }
   ],
   "source": [
    "# Query for month\n",
    "covid_df[covid_df.month == 5][['new_cases', 'new_deaths', 'new_tests']].sum()"
   ]
  },
  {
   "cell_type": "code",
   "execution_count": 80,
   "metadata": {},
   "outputs": [
    {
     "output_type": "execute_result",
     "data": {
      "text/plain": [
       "         new_cases  new_deaths     new_tests\n",
       "count    31.000000   31.000000     31.000000\n",
       "mean    937.838710  182.516129  34797.419355\n",
       "std     458.224843   91.088188   7403.552952\n",
       "min     300.000000   50.000000  13665.000000\n",
       "25%     617.500000  118.000000  31307.500000\n",
       "50%     802.000000  165.000000  37049.000000\n",
       "75%    1274.000000  239.000000  40032.000000\n",
       "max    1965.000000  474.000000  45428.000000"
      ],
      "text/html": "<div>\n<style scoped>\n    .dataframe tbody tr th:only-of-type {\n        vertical-align: middle;\n    }\n\n    .dataframe tbody tr th {\n        vertical-align: top;\n    }\n\n    .dataframe thead th {\n        text-align: right;\n    }\n</style>\n<table border=\"1\" class=\"dataframe\">\n  <thead>\n    <tr style=\"text-align: right;\">\n      <th></th>\n      <th>new_cases</th>\n      <th>new_deaths</th>\n      <th>new_tests</th>\n    </tr>\n  </thead>\n  <tbody>\n    <tr>\n      <th>count</th>\n      <td>31.000000</td>\n      <td>31.000000</td>\n      <td>31.000000</td>\n    </tr>\n    <tr>\n      <th>mean</th>\n      <td>937.838710</td>\n      <td>182.516129</td>\n      <td>34797.419355</td>\n    </tr>\n    <tr>\n      <th>std</th>\n      <td>458.224843</td>\n      <td>91.088188</td>\n      <td>7403.552952</td>\n    </tr>\n    <tr>\n      <th>min</th>\n      <td>300.000000</td>\n      <td>50.000000</td>\n      <td>13665.000000</td>\n    </tr>\n    <tr>\n      <th>25%</th>\n      <td>617.500000</td>\n      <td>118.000000</td>\n      <td>31307.500000</td>\n    </tr>\n    <tr>\n      <th>50%</th>\n      <td>802.000000</td>\n      <td>165.000000</td>\n      <td>37049.000000</td>\n    </tr>\n    <tr>\n      <th>75%</th>\n      <td>1274.000000</td>\n      <td>239.000000</td>\n      <td>40032.000000</td>\n    </tr>\n    <tr>\n      <th>max</th>\n      <td>1965.000000</td>\n      <td>474.000000</td>\n      <td>45428.000000</td>\n    </tr>\n  </tbody>\n</table>\n</div>"
     },
     "metadata": {},
     "execution_count": 80
    }
   ],
   "source": [
    "covid_df[covid_df.month == 5][['new_cases', 'new_deaths', 'new_tests']].describe()"
   ]
  },
  {
   "source": [
    "## Grouping and aggregation\n"
   ],
   "cell_type": "markdown",
   "metadata": {}
  },
  {
   "cell_type": "code",
   "execution_count": 94,
   "metadata": {},
   "outputs": [],
   "source": [
    "covid_month_df = covid_df.groupby('month')[['new_cases','new_deaths','new_tests']]"
   ]
  },
  {
   "cell_type": "code",
   "execution_count": 95,
   "metadata": {},
   "outputs": [
    {
     "output_type": "execute_result",
     "data": {
      "text/plain": [
       "       new_cases  new_deaths  new_tests\n",
       "month                                  \n",
       "1            3.0         0.0        0.0\n",
       "2          885.0        21.0        0.0\n",
       "3       100851.0     11570.0        0.0\n",
       "4       101852.0     16091.0   419591.0\n",
       "5        29073.0      5658.0  1078720.0\n",
       "6         8217.5      1404.0   830354.0\n",
       "7         6722.0       388.0   797692.0\n",
       "8        21060.0       345.0  1098704.0\n",
       "9         3297.0        20.0    54395.0\n",
       "12           0.0         0.0        0.0"
      ],
      "text/html": "<div>\n<style scoped>\n    .dataframe tbody tr th:only-of-type {\n        vertical-align: middle;\n    }\n\n    .dataframe tbody tr th {\n        vertical-align: top;\n    }\n\n    .dataframe thead th {\n        text-align: right;\n    }\n</style>\n<table border=\"1\" class=\"dataframe\">\n  <thead>\n    <tr style=\"text-align: right;\">\n      <th></th>\n      <th>new_cases</th>\n      <th>new_deaths</th>\n      <th>new_tests</th>\n    </tr>\n    <tr>\n      <th>month</th>\n      <th></th>\n      <th></th>\n      <th></th>\n    </tr>\n  </thead>\n  <tbody>\n    <tr>\n      <th>1</th>\n      <td>3.0</td>\n      <td>0.0</td>\n      <td>0.0</td>\n    </tr>\n    <tr>\n      <th>2</th>\n      <td>885.0</td>\n      <td>21.0</td>\n      <td>0.0</td>\n    </tr>\n    <tr>\n      <th>3</th>\n      <td>100851.0</td>\n      <td>11570.0</td>\n      <td>0.0</td>\n    </tr>\n    <tr>\n      <th>4</th>\n      <td>101852.0</td>\n      <td>16091.0</td>\n      <td>419591.0</td>\n    </tr>\n    <tr>\n      <th>5</th>\n      <td>29073.0</td>\n      <td>5658.0</td>\n      <td>1078720.0</td>\n    </tr>\n    <tr>\n      <th>6</th>\n      <td>8217.5</td>\n      <td>1404.0</td>\n      <td>830354.0</td>\n    </tr>\n    <tr>\n      <th>7</th>\n      <td>6722.0</td>\n      <td>388.0</td>\n      <td>797692.0</td>\n    </tr>\n    <tr>\n      <th>8</th>\n      <td>21060.0</td>\n      <td>345.0</td>\n      <td>1098704.0</td>\n    </tr>\n    <tr>\n      <th>9</th>\n      <td>3297.0</td>\n      <td>20.0</td>\n      <td>54395.0</td>\n    </tr>\n    <tr>\n      <th>12</th>\n      <td>0.0</td>\n      <td>0.0</td>\n      <td>0.0</td>\n    </tr>\n  </tbody>\n</table>\n</div>"
     },
     "metadata": {},
     "execution_count": 95
    }
   ],
   "source": [
    "covid_month_df.sum()"
   ]
  },
  {
   "cell_type": "code",
   "execution_count": 101,
   "metadata": {},
   "outputs": [
    {
     "output_type": "execute_result",
     "data": {
      "text/plain": [
       "         new_cases  new_deaths     new_tests\n",
       "month                                       \n",
       "1         0.096774    0.000000           NaN\n",
       "2        30.517241    0.724138           NaN\n",
       "3      3253.258065  373.225806           NaN\n",
       "4      3395.066667  536.366667  38144.636364\n",
       "5       937.838710  182.516129  34797.419355\n",
       "6       273.916667   46.800000  27678.466667\n",
       "7       216.838710   12.516129  25732.000000\n",
       "8       679.354839   11.129032  35442.064516\n",
       "9      1099.000000    6.666667  54395.000000\n",
       "12        0.000000    0.000000           NaN"
      ],
      "text/html": "<div>\n<style scoped>\n    .dataframe tbody tr th:only-of-type {\n        vertical-align: middle;\n    }\n\n    .dataframe tbody tr th {\n        vertical-align: top;\n    }\n\n    .dataframe thead th {\n        text-align: right;\n    }\n</style>\n<table border=\"1\" class=\"dataframe\">\n  <thead>\n    <tr style=\"text-align: right;\">\n      <th></th>\n      <th>new_cases</th>\n      <th>new_deaths</th>\n      <th>new_tests</th>\n    </tr>\n    <tr>\n      <th>month</th>\n      <th></th>\n      <th></th>\n      <th></th>\n    </tr>\n  </thead>\n  <tbody>\n    <tr>\n      <th>1</th>\n      <td>0.096774</td>\n      <td>0.000000</td>\n      <td>NaN</td>\n    </tr>\n    <tr>\n      <th>2</th>\n      <td>30.517241</td>\n      <td>0.724138</td>\n      <td>NaN</td>\n    </tr>\n    <tr>\n      <th>3</th>\n      <td>3253.258065</td>\n      <td>373.225806</td>\n      <td>NaN</td>\n    </tr>\n    <tr>\n      <th>4</th>\n      <td>3395.066667</td>\n      <td>536.366667</td>\n      <td>38144.636364</td>\n    </tr>\n    <tr>\n      <th>5</th>\n      <td>937.838710</td>\n      <td>182.516129</td>\n      <td>34797.419355</td>\n    </tr>\n    <tr>\n      <th>6</th>\n      <td>273.916667</td>\n      <td>46.800000</td>\n      <td>27678.466667</td>\n    </tr>\n    <tr>\n      <th>7</th>\n      <td>216.838710</td>\n      <td>12.516129</td>\n      <td>25732.000000</td>\n    </tr>\n    <tr>\n      <th>8</th>\n      <td>679.354839</td>\n      <td>11.129032</td>\n      <td>35442.064516</td>\n    </tr>\n    <tr>\n      <th>9</th>\n      <td>1099.000000</td>\n      <td>6.666667</td>\n      <td>54395.000000</td>\n    </tr>\n    <tr>\n      <th>12</th>\n      <td>0.000000</td>\n      <td>0.000000</td>\n      <td>NaN</td>\n    </tr>\n  </tbody>\n</table>\n</div>"
     },
     "metadata": {},
     "execution_count": 101
    }
   ],
   "source": [
    "covid_month_df.mean()"
   ]
  },
  {
   "cell_type": "code",
   "execution_count": 105,
   "metadata": {},
   "outputs": [],
   "source": [
    "locations_df = pd.read_csv('locations.csv')"
   ]
  },
  {
   "cell_type": "code",
   "execution_count": 106,
   "metadata": {},
   "outputs": [
    {
     "output_type": "execute_result",
     "data": {
      "text/plain": [
       "          location continent    population  life_expectancy  \\\n",
       "0      Afghanistan      Asia  3.892834e+07            64.83   \n",
       "1          Albania    Europe  2.877800e+06            78.57   \n",
       "2          Algeria    Africa  4.385104e+07            76.88   \n",
       "3          Andorra    Europe  7.726500e+04            83.73   \n",
       "4           Angola    Africa  3.286627e+07            61.15   \n",
       "..             ...       ...           ...              ...   \n",
       "207          Yemen      Asia  2.982597e+07            66.12   \n",
       "208         Zambia    Africa  1.838396e+07            63.89   \n",
       "209       Zimbabwe    Africa  1.486293e+07            61.49   \n",
       "210          World       NaN  7.794799e+09            72.58   \n",
       "211  International       NaN           NaN              NaN   \n",
       "\n",
       "     hospital_beds_per_thousand  gdp_per_capita  \n",
       "0                         0.500        1803.987  \n",
       "1                         2.890       11803.431  \n",
       "2                         1.900       13913.839  \n",
       "3                           NaN             NaN  \n",
       "4                           NaN        5819.495  \n",
       "..                          ...             ...  \n",
       "207                       0.700        1479.147  \n",
       "208                       2.000        3689.251  \n",
       "209                       1.700        1899.775  \n",
       "210                       2.705       15469.207  \n",
       "211                         NaN             NaN  \n",
       "\n",
       "[212 rows x 6 columns]"
      ],
      "text/html": "<div>\n<style scoped>\n    .dataframe tbody tr th:only-of-type {\n        vertical-align: middle;\n    }\n\n    .dataframe tbody tr th {\n        vertical-align: top;\n    }\n\n    .dataframe thead th {\n        text-align: right;\n    }\n</style>\n<table border=\"1\" class=\"dataframe\">\n  <thead>\n    <tr style=\"text-align: right;\">\n      <th></th>\n      <th>location</th>\n      <th>continent</th>\n      <th>population</th>\n      <th>life_expectancy</th>\n      <th>hospital_beds_per_thousand</th>\n      <th>gdp_per_capita</th>\n    </tr>\n  </thead>\n  <tbody>\n    <tr>\n      <th>0</th>\n      <td>Afghanistan</td>\n      <td>Asia</td>\n      <td>3.892834e+07</td>\n      <td>64.83</td>\n      <td>0.500</td>\n      <td>1803.987</td>\n    </tr>\n    <tr>\n      <th>1</th>\n      <td>Albania</td>\n      <td>Europe</td>\n      <td>2.877800e+06</td>\n      <td>78.57</td>\n      <td>2.890</td>\n      <td>11803.431</td>\n    </tr>\n    <tr>\n      <th>2</th>\n      <td>Algeria</td>\n      <td>Africa</td>\n      <td>4.385104e+07</td>\n      <td>76.88</td>\n      <td>1.900</td>\n      <td>13913.839</td>\n    </tr>\n    <tr>\n      <th>3</th>\n      <td>Andorra</td>\n      <td>Europe</td>\n      <td>7.726500e+04</td>\n      <td>83.73</td>\n      <td>NaN</td>\n      <td>NaN</td>\n    </tr>\n    <tr>\n      <th>4</th>\n      <td>Angola</td>\n      <td>Africa</td>\n      <td>3.286627e+07</td>\n      <td>61.15</td>\n      <td>NaN</td>\n      <td>5819.495</td>\n    </tr>\n    <tr>\n      <th>...</th>\n      <td>...</td>\n      <td>...</td>\n      <td>...</td>\n      <td>...</td>\n      <td>...</td>\n      <td>...</td>\n    </tr>\n    <tr>\n      <th>207</th>\n      <td>Yemen</td>\n      <td>Asia</td>\n      <td>2.982597e+07</td>\n      <td>66.12</td>\n      <td>0.700</td>\n      <td>1479.147</td>\n    </tr>\n    <tr>\n      <th>208</th>\n      <td>Zambia</td>\n      <td>Africa</td>\n      <td>1.838396e+07</td>\n      <td>63.89</td>\n      <td>2.000</td>\n      <td>3689.251</td>\n    </tr>\n    <tr>\n      <th>209</th>\n      <td>Zimbabwe</td>\n      <td>Africa</td>\n      <td>1.486293e+07</td>\n      <td>61.49</td>\n      <td>1.700</td>\n      <td>1899.775</td>\n    </tr>\n    <tr>\n      <th>210</th>\n      <td>World</td>\n      <td>NaN</td>\n      <td>7.794799e+09</td>\n      <td>72.58</td>\n      <td>2.705</td>\n      <td>15469.207</td>\n    </tr>\n    <tr>\n      <th>211</th>\n      <td>International</td>\n      <td>NaN</td>\n      <td>NaN</td>\n      <td>NaN</td>\n      <td>NaN</td>\n      <td>NaN</td>\n    </tr>\n  </tbody>\n</table>\n<p>212 rows × 6 columns</p>\n</div>"
     },
     "metadata": {},
     "execution_count": 106
    }
   ],
   "source": [
    "locations_df"
   ]
  },
  {
   "cell_type": "code",
   "execution_count": 141,
   "metadata": {},
   "outputs": [
    {
     "output_type": "execute_result",
     "data": {
      "text/plain": [
       "    location continent   population  life_expectancy  \\\n",
       "157   Russia    Europe  145934460.0            72.58   \n",
       "196  Ukraine    Europe   43733759.0            72.06   \n",
       "126  Moldova    Europe    4033963.0            71.90   \n",
       "100   Jersey    Europe     101073.0              NaN   \n",
       "104   Kosovo    Europe    1932774.0              NaN   \n",
       "\n",
       "     hospital_beds_per_thousand  gdp_per_capita  \n",
       "157                        8.05       24765.954  \n",
       "196                        8.80        7894.393  \n",
       "126                        5.80        5189.972  \n",
       "100                         NaN             NaN  \n",
       "104                         NaN        9795.834  "
      ],
      "text/html": "<div>\n<style scoped>\n    .dataframe tbody tr th:only-of-type {\n        vertical-align: middle;\n    }\n\n    .dataframe tbody tr th {\n        vertical-align: top;\n    }\n\n    .dataframe thead th {\n        text-align: right;\n    }\n</style>\n<table border=\"1\" class=\"dataframe\">\n  <thead>\n    <tr style=\"text-align: right;\">\n      <th></th>\n      <th>location</th>\n      <th>continent</th>\n      <th>population</th>\n      <th>life_expectancy</th>\n      <th>hospital_beds_per_thousand</th>\n      <th>gdp_per_capita</th>\n    </tr>\n  </thead>\n  <tbody>\n    <tr>\n      <th>157</th>\n      <td>Russia</td>\n      <td>Europe</td>\n      <td>145934460.0</td>\n      <td>72.58</td>\n      <td>8.05</td>\n      <td>24765.954</td>\n    </tr>\n    <tr>\n      <th>196</th>\n      <td>Ukraine</td>\n      <td>Europe</td>\n      <td>43733759.0</td>\n      <td>72.06</td>\n      <td>8.80</td>\n      <td>7894.393</td>\n    </tr>\n    <tr>\n      <th>126</th>\n      <td>Moldova</td>\n      <td>Europe</td>\n      <td>4033963.0</td>\n      <td>71.90</td>\n      <td>5.80</td>\n      <td>5189.972</td>\n    </tr>\n    <tr>\n      <th>100</th>\n      <td>Jersey</td>\n      <td>Europe</td>\n      <td>101073.0</td>\n      <td>NaN</td>\n      <td>NaN</td>\n      <td>NaN</td>\n    </tr>\n    <tr>\n      <th>104</th>\n      <td>Kosovo</td>\n      <td>Europe</td>\n      <td>1932774.0</td>\n      <td>NaN</td>\n      <td>NaN</td>\n      <td>9795.834</td>\n    </tr>\n  </tbody>\n</table>\n</div>"
     },
     "metadata": {},
     "execution_count": 141
    }
   ],
   "source": [
    "locations_df.query(\"continent=='Europe' and population > 100000\").sort_values('life_expectancy', ascending=False).tail()"
   ]
  },
  {
   "cell_type": "code",
   "execution_count": 125,
   "metadata": {},
   "outputs": [
    {
     "output_type": "execute_result",
     "data": {
      "text/plain": [
       "Index(['location', 'continent', 'population', 'life_expectancy',\n",
       "       'hospital_beds_per_thousand', 'gdp_per_capita'],\n",
       "      dtype='object')"
      ]
     },
     "metadata": {},
     "execution_count": 125
    }
   ],
   "source": [
    "locations_df.columns"
   ]
  },
  {
   "cell_type": "code",
   "execution_count": null,
   "metadata": {},
   "outputs": [],
   "source": []
  }
 ]
}