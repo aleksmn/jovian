{
 "metadata": {
  "language_info": {
   "codemirror_mode": {
    "name": "ipython",
    "version": 3
   },
   "file_extension": ".py",
   "mimetype": "text/x-python",
   "name": "python",
   "nbconvert_exporter": "python",
   "pygments_lexer": "ipython3",
   "version": "3.8.5"
  },
  "orig_nbformat": 2,
  "kernelspec": {
   "name": "python3",
   "display_name": "Python 3.8.5 64-bit"
  },
  "metadata": {
   "interpreter": {
    "hash": "e7370f93d1d0cde622a1f8e1c04877d8463912d04d973331ad4851f04de6915a"
   }
  },
  "interpreter": {
   "hash": "31f2aee4e71d21fbe5cf8b01ff0e069b9275f58929596ceb00d14d90e3e16cd6"
  }
 },
 "nbformat": 4,
 "nbformat_minor": 2,
 "cells": [
  {
   "source": [
    "# Practice Notebook for Stackoverflow Survey"
   ],
   "cell_type": "markdown",
   "metadata": {}
  },
  {
   "cell_type": "code",
   "execution_count": 8,
   "metadata": {},
   "outputs": [],
   "source": [
    "# !pip install opendatasets\n",
    "# !pip install pandas\n"
   ]
  },
  {
   "cell_type": "code",
   "execution_count": 9,
   "metadata": {},
   "outputs": [],
   "source": [
    "import opendatasets as od\n",
    "\n",
    "#from https://github.com/JovianML/opendatasets"
   ]
  },
  {
   "cell_type": "code",
   "execution_count": 16,
   "metadata": {},
   "outputs": [],
   "source": [
    "# help(od)"
   ]
  },
  {
   "cell_type": "code",
   "execution_count": 17,
   "metadata": {},
   "outputs": [],
   "source": [
    "# od.download('stackoverflow-developer-survey-2020')\n",
    "\n",
    "# # Covid-19 Stats by Our World in Data (https://github.com/owid/covid-19-data/tree/master/public/data):\n",
    "# od.download('owid-covid-19-latest')"
   ]
  },
  {
   "cell_type": "code",
   "execution_count": 18,
   "metadata": {},
   "outputs": [],
   "source": [
    "import os"
   ]
  },
  {
   "cell_type": "code",
   "execution_count": 19,
   "metadata": {},
   "outputs": [
    {
     "output_type": "execute_result",
     "data": {
      "text/plain": [
       "['README.txt', 'survey_results_schema.csv', 'survey_results_public.csv']"
      ]
     },
     "metadata": {},
     "execution_count": 19
    }
   ],
   "source": [
    "os.listdir('stackoverflow-developer-survey-2020')"
   ]
  },
  {
   "cell_type": "code",
   "execution_count": 20,
   "metadata": {},
   "outputs": [],
   "source": [
    "import pandas as pd"
   ]
  },
  {
   "cell_type": "code",
   "execution_count": 21,
   "metadata": {},
   "outputs": [],
   "source": [
    "survey_raw_df = pd.read_csv('stackoverflow-developer-survey-2020/survey_results_public.csv')"
   ]
  },
  {
   "cell_type": "code",
   "execution_count": 22,
   "metadata": {},
   "outputs": [
    {
     "output_type": "execute_result",
     "data": {
      "text/plain": [
       "       Respondent                                         MainBranch Hobbyist  \\\n",
       "48524       49531  I am not primarily a developer, but I write co...      Yes   \n",
       "2675         2688                     I am a developer by profession      Yes   \n",
       "2331         2341                     I am a developer by profession      Yes   \n",
       "47730       48729  I am not primarily a developer, but I write co...      Yes   \n",
       "1424         1430                     I am a developer by profession       No   \n",
       "\n",
       "        Age Age1stCode CompFreq  CompTotal  ConvertedComp        Country  \\\n",
       "48524   NaN        NaN      NaN        NaN            NaN  United States   \n",
       "2675   32.0         17   Yearly    75000.0        75000.0  United States   \n",
       "2331   43.0         20  Monthly     2950.0        35400.0     Bangladesh   \n",
       "47730  39.0         10      NaN        NaN            NaN         Sweden   \n",
       "1424   31.0         14   Yearly    67500.0        51051.0         Canada   \n",
       "\n",
       "               CurrencyDesc  ...                  SurveyEase  \\\n",
       "48524  United States dollar  ...                        Easy   \n",
       "2675   United States dollar  ...  Neither easy nor difficult   \n",
       "2331   United States dollar  ...                        Easy   \n",
       "47730         Swedish krona  ...                        Easy   \n",
       "1424        Canadian dollar  ...                        Easy   \n",
       "\n",
       "                SurveyLength Trans  \\\n",
       "48524               Too long   NaN   \n",
       "2675   Appropriate in length    No   \n",
       "2331                Too long    No   \n",
       "47730  Appropriate in length    No   \n",
       "1424   Appropriate in length    No   \n",
       "\n",
       "                                          UndergradMajor  \\\n",
       "48524  Computer science, computer engineering, or sof...   \n",
       "2675   Computer science, computer engineering, or sof...   \n",
       "2331                                                 NaN   \n",
       "47730  A business discipline (such as accounting, fin...   \n",
       "1424   Computer science, computer engineering, or sof...   \n",
       "\n",
       "             WebframeDesireNextYear  \\\n",
       "48524                           NaN   \n",
       "2675           Django;Spring;Vue.js   \n",
       "2331   Django;Flask;React.js;Vue.js   \n",
       "47730              Express;React.js   \n",
       "1424                React.js;Spring   \n",
       "\n",
       "                                    WebframeWorkedWith  \\\n",
       "48524                                              NaN   \n",
       "2675   Angular;Angular.js;Django;Laravel;Spring;Vue.js   \n",
       "2331                     Express;jQuery;Laravel;Vue.js   \n",
       "47730                    Django;Express;Flask;React.js   \n",
       "1424                                            Spring   \n",
       "\n",
       "                                 WelcomeChange WorkWeekHrs YearsCode  \\\n",
       "48524  Just as welcome now as I felt last year         NaN       NaN   \n",
       "2675   Just as welcome now as I felt last year        40.0         6   \n",
       "2331   Just as welcome now as I felt last year        30.0        23   \n",
       "47730  Just as welcome now as I felt last year        45.0         4   \n",
       "1424   Just as welcome now as I felt last year        38.0        16   \n",
       "\n",
       "      YearsCodePro  \n",
       "48524          NaN  \n",
       "2675             1  \n",
       "2331            13  \n",
       "47730            3  \n",
       "1424            10  \n",
       "\n",
       "[5 rows x 61 columns]"
      ],
      "text/html": "<div>\n<style scoped>\n    .dataframe tbody tr th:only-of-type {\n        vertical-align: middle;\n    }\n\n    .dataframe tbody tr th {\n        vertical-align: top;\n    }\n\n    .dataframe thead th {\n        text-align: right;\n    }\n</style>\n<table border=\"1\" class=\"dataframe\">\n  <thead>\n    <tr style=\"text-align: right;\">\n      <th></th>\n      <th>Respondent</th>\n      <th>MainBranch</th>\n      <th>Hobbyist</th>\n      <th>Age</th>\n      <th>Age1stCode</th>\n      <th>CompFreq</th>\n      <th>CompTotal</th>\n      <th>ConvertedComp</th>\n      <th>Country</th>\n      <th>CurrencyDesc</th>\n      <th>...</th>\n      <th>SurveyEase</th>\n      <th>SurveyLength</th>\n      <th>Trans</th>\n      <th>UndergradMajor</th>\n      <th>WebframeDesireNextYear</th>\n      <th>WebframeWorkedWith</th>\n      <th>WelcomeChange</th>\n      <th>WorkWeekHrs</th>\n      <th>YearsCode</th>\n      <th>YearsCodePro</th>\n    </tr>\n  </thead>\n  <tbody>\n    <tr>\n      <th>48524</th>\n      <td>49531</td>\n      <td>I am not primarily a developer, but I write co...</td>\n      <td>Yes</td>\n      <td>NaN</td>\n      <td>NaN</td>\n      <td>NaN</td>\n      <td>NaN</td>\n      <td>NaN</td>\n      <td>United States</td>\n      <td>United States dollar</td>\n      <td>...</td>\n      <td>Easy</td>\n      <td>Too long</td>\n      <td>NaN</td>\n      <td>Computer science, computer engineering, or sof...</td>\n      <td>NaN</td>\n      <td>NaN</td>\n      <td>Just as welcome now as I felt last year</td>\n      <td>NaN</td>\n      <td>NaN</td>\n      <td>NaN</td>\n    </tr>\n    <tr>\n      <th>2675</th>\n      <td>2688</td>\n      <td>I am a developer by profession</td>\n      <td>Yes</td>\n      <td>32.0</td>\n      <td>17</td>\n      <td>Yearly</td>\n      <td>75000.0</td>\n      <td>75000.0</td>\n      <td>United States</td>\n      <td>United States dollar</td>\n      <td>...</td>\n      <td>Neither easy nor difficult</td>\n      <td>Appropriate in length</td>\n      <td>No</td>\n      <td>Computer science, computer engineering, or sof...</td>\n      <td>Django;Spring;Vue.js</td>\n      <td>Angular;Angular.js;Django;Laravel;Spring;Vue.js</td>\n      <td>Just as welcome now as I felt last year</td>\n      <td>40.0</td>\n      <td>6</td>\n      <td>1</td>\n    </tr>\n    <tr>\n      <th>2331</th>\n      <td>2341</td>\n      <td>I am a developer by profession</td>\n      <td>Yes</td>\n      <td>43.0</td>\n      <td>20</td>\n      <td>Monthly</td>\n      <td>2950.0</td>\n      <td>35400.0</td>\n      <td>Bangladesh</td>\n      <td>United States dollar</td>\n      <td>...</td>\n      <td>Easy</td>\n      <td>Too long</td>\n      <td>No</td>\n      <td>NaN</td>\n      <td>Django;Flask;React.js;Vue.js</td>\n      <td>Express;jQuery;Laravel;Vue.js</td>\n      <td>Just as welcome now as I felt last year</td>\n      <td>30.0</td>\n      <td>23</td>\n      <td>13</td>\n    </tr>\n    <tr>\n      <th>47730</th>\n      <td>48729</td>\n      <td>I am not primarily a developer, but I write co...</td>\n      <td>Yes</td>\n      <td>39.0</td>\n      <td>10</td>\n      <td>NaN</td>\n      <td>NaN</td>\n      <td>NaN</td>\n      <td>Sweden</td>\n      <td>Swedish krona</td>\n      <td>...</td>\n      <td>Easy</td>\n      <td>Appropriate in length</td>\n      <td>No</td>\n      <td>A business discipline (such as accounting, fin...</td>\n      <td>Express;React.js</td>\n      <td>Django;Express;Flask;React.js</td>\n      <td>Just as welcome now as I felt last year</td>\n      <td>45.0</td>\n      <td>4</td>\n      <td>3</td>\n    </tr>\n    <tr>\n      <th>1424</th>\n      <td>1430</td>\n      <td>I am a developer by profession</td>\n      <td>No</td>\n      <td>31.0</td>\n      <td>14</td>\n      <td>Yearly</td>\n      <td>67500.0</td>\n      <td>51051.0</td>\n      <td>Canada</td>\n      <td>Canadian dollar</td>\n      <td>...</td>\n      <td>Easy</td>\n      <td>Appropriate in length</td>\n      <td>No</td>\n      <td>Computer science, computer engineering, or sof...</td>\n      <td>React.js;Spring</td>\n      <td>Spring</td>\n      <td>Just as welcome now as I felt last year</td>\n      <td>38.0</td>\n      <td>16</td>\n      <td>10</td>\n    </tr>\n  </tbody>\n</table>\n<p>5 rows × 61 columns</p>\n</div>"
     },
     "metadata": {},
     "execution_count": 22
    }
   ],
   "source": [
    "survey_raw_df.sample(5)"
   ]
  },
  {
   "cell_type": "code",
   "execution_count": 23,
   "metadata": {},
   "outputs": [],
   "source": [
    "survey_results_schema_df = pd.read_csv('stackoverflow-developer-survey-2020/survey_results_schema.csv', index_col='Column')"
   ]
  },
  {
   "cell_type": "code",
   "execution_count": 24,
   "metadata": {},
   "outputs": [
    {
     "output_type": "execute_result",
     "data": {
      "text/plain": [
       "QuestionText    What is your age (in years)? If you prefer not...\n",
       "Name: Age, dtype: object"
      ]
     },
     "metadata": {},
     "execution_count": 24
    }
   ],
   "source": [
    "survey_results_schema_df.loc['Age']"
   ]
  },
  {
   "cell_type": "code",
   "execution_count": 25,
   "metadata": {},
   "outputs": [],
   "source": [
    "def question(col_name):\n",
    "    '''Get full question from column name.'''\n",
    "    print(col_name, '-', survey_results_schema_df.loc[col_name][0])"
   ]
  },
  {
   "cell_type": "code",
   "execution_count": 26,
   "metadata": {},
   "outputs": [
    {
     "output_type": "stream",
     "name": "stdout",
     "text": [
      "ConvertedComp - Salary converted to annual USD salaries using the exchange rate on 2020-02-19, assuming 12 working months and 50 working weeks.\n"
     ]
    }
   ],
   "source": [
    "question('ConvertedComp')"
   ]
  },
  {
   "cell_type": "code",
   "execution_count": 27,
   "metadata": {},
   "outputs": [],
   "source": [
    "# Make series from Schema df:\n",
    " \n",
    "schema_raw = survey_results_schema_df.QuestionText"
   ]
  },
  {
   "cell_type": "code",
   "execution_count": 28,
   "metadata": {},
   "outputs": [
    {
     "output_type": "execute_result",
     "data": {
      "text/plain": [
       "'At what age did you write your first line of code or program? (e.g., webpage, Hello World, Scratch project)'"
      ]
     },
     "metadata": {},
     "execution_count": 28
    }
   ],
   "source": [
    "schema_raw['Age1stCode']"
   ]
  },
  {
   "cell_type": "code",
   "execution_count": 29,
   "metadata": {},
   "outputs": [
    {
     "output_type": "display_data",
     "data": {
      "text/plain": "<IPython.core.display.Javascript object>",
      "application/javascript": "if (window.IPython && IPython.notebook.kernel) IPython.notebook.kernel.execute('jovian.utils.jupyter.get_notebook_name_saved = lambda: \"' + IPython.notebook.notebook_name + '\"')"
     },
     "metadata": {}
    }
   ],
   "source": [
    "import jovian"
   ]
  },
  {
   "cell_type": "code",
   "execution_count": 30,
   "metadata": {},
   "outputs": [
    {
     "output_type": "display_data",
     "data": {
      "text/plain": "<IPython.core.display.Javascript object>",
      "application/javascript": "window.require && require([\"base/js/namespace\"],function(Jupyter){Jupyter.notebook.save_checkpoint()})"
     },
     "metadata": {}
    },
    {
     "output_type": "stream",
     "name": "stdout",
     "text": [
      "[jovian] Attempting to save notebook..\u001b[0m\n",
      "[jovian] Uploading notebook..\u001b[0m\n",
      "[jovian] Capturing environment..\u001b[0m\n",
      "\u001b[31m[jovian] Error: Failed to read Anaconda environment using command: \"conda env export -n base --no-builds\"\u001b[0m\n",
      "[jovian] Committed successfully! https://jovian.ai/aleksmn/practice-stackoverflow-survey\u001b[0m\n"
     ]
    },
    {
     "output_type": "execute_result",
     "data": {
      "text/plain": [
       "'https://jovian.ai/aleksmn/practice-stackoverflow-survey'"
      ]
     },
     "metadata": {},
     "execution_count": 30
    }
   ],
   "source": [
    "filename = 'practice-stackoverflow-survey.ipynb'\n",
    "jovian.commit(filename=filename)"
   ]
  },
  {
   "source": [
    "## Data Preparation & Cleaning\n"
   ],
   "cell_type": "markdown",
   "metadata": {}
  },
  {
   "cell_type": "code",
   "execution_count": 31,
   "metadata": {},
   "outputs": [],
   "source": [
    "selected_columns = [\n",
    "    # Demographics\n",
    "    'Country',\n",
    "    'Age',\n",
    "    'Gender',\n",
    "    'EdLevel',\n",
    "    'UndergradMajor',\n",
    "    # Programming experience\n",
    "    'Hobbyist',\n",
    "    'Age1stCode',\n",
    "    'YearsCode',\n",
    "    'YearsCodePro',\n",
    "    'LanguageWorkedWith',\n",
    "    'LanguageDesireNextYear',\n",
    "    'NEWLearn',\n",
    "    'NEWStuck',\n",
    "    # Employment\n",
    "    'Employment',\n",
    "    'DevType',\n",
    "    'WorkWeekHrs',\n",
    "    'JobSat',\n",
    "    'JobFactors',\n",
    "    'NEWOvertime',\n",
    "    'NEWEdImpt'\n",
    "]"
   ]
  },
  {
   "cell_type": "code",
   "execution_count": 32,
   "metadata": {},
   "outputs": [
    {
     "output_type": "execute_result",
     "data": {
      "text/plain": [
       "20"
      ]
     },
     "metadata": {},
     "execution_count": 32
    }
   ],
   "source": [
    "len(selected_columns)"
   ]
  },
  {
   "cell_type": "code",
   "execution_count": 33,
   "metadata": {},
   "outputs": [],
   "source": [
    "survey_df = survey_raw_df[selected_columns].copy()"
   ]
  },
  {
   "cell_type": "code",
   "execution_count": 36,
   "metadata": {},
   "outputs": [
    {
     "output_type": "execute_result",
     "data": {
      "text/plain": [
       "(64461, 20)"
      ]
     },
     "metadata": {},
     "execution_count": 36
    }
   ],
   "source": [
    "survey_df.shape"
   ]
  },
  {
   "cell_type": "code",
   "execution_count": 38,
   "metadata": {},
   "outputs": [],
   "source": [
    "schema = schema_raw[selected_columns]"
   ]
  },
  {
   "cell_type": "code",
   "execution_count": 40,
   "metadata": {},
   "outputs": [
    {
     "output_type": "execute_result",
     "data": {
      "text/plain": [
       "'Including any education, how many years have you been coding in total?'"
      ]
     },
     "metadata": {},
     "execution_count": 40
    }
   ],
   "source": [
    "schema['YearsCode']"
   ]
  },
  {
   "cell_type": "code",
   "execution_count": 41,
   "metadata": {},
   "outputs": [
    {
     "output_type": "stream",
     "name": "stdout",
     "text": [
      "<class 'pandas.core.frame.DataFrame'>\nRangeIndex: 64461 entries, 0 to 64460\nData columns (total 20 columns):\n #   Column                  Non-Null Count  Dtype  \n---  ------                  --------------  -----  \n 0   Country                 64072 non-null  object \n 1   Age                     45446 non-null  float64\n 2   Gender                  50557 non-null  object \n 3   EdLevel                 57431 non-null  object \n 4   UndergradMajor          50995 non-null  object \n 5   Hobbyist                64416 non-null  object \n 6   Age1stCode              57900 non-null  object \n 7   YearsCode               57684 non-null  object \n 8   YearsCodePro            46349 non-null  object \n 9   LanguageWorkedWith      57378 non-null  object \n 10  LanguageDesireNextYear  54113 non-null  object \n 11  NEWLearn                56156 non-null  object \n 12  NEWStuck                54983 non-null  object \n 13  Employment              63854 non-null  object \n 14  DevType                 49370 non-null  object \n 15  WorkWeekHrs             41151 non-null  float64\n 16  JobSat                  45194 non-null  object \n 17  JobFactors              49349 non-null  object \n 18  NEWOvertime             43231 non-null  object \n 19  NEWEdImpt               48465 non-null  object \ndtypes: float64(2), object(18)\nmemory usage: 9.8+ MB\n"
     ]
    }
   ],
   "source": [
    "survey_df.info()"
   ]
  },
  {
   "cell_type": "code",
   "execution_count": null,
   "metadata": {},
   "outputs": [],
   "source": []
  }
 ]
}